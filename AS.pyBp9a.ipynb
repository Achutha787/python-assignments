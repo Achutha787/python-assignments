{
 "cells": [
  {
   "cell_type": "code",
   "execution_count": null,
   "id": "4c956580",
   "metadata": {},
   "outputs": [],
   "source": [
    "#1)what does the relative path refer?\n",
    "#A relative path is a path that describes the location of a file or folder in relative to the \n",
    "#current working directory.Relative paths contain information that is only relative to the current\n",
    "#document within the same website which avoids the need to provide a full absolute path.Relative\n",
    "#path refers to a path relative to the location of the current webpage.\n",
    "\n"
   ]
  },
  {
   "cell_type": "code",
   "execution_count": 2,
   "id": "2317de25",
   "metadata": {},
   "outputs": [],
   "source": [
    "#2)what does the absolute path start with your operating system?\n",
    "#An absolute path is defined as specifying the location of a file or directory from the root \n",
    "#directory(/).An absolute path is a complete path from start of\n",
    "#actual file system from / directory."
   ]
  },
  {
   "cell_type": "code",
   "execution_count": 14,
   "id": "6d379820",
   "metadata": {},
   "outputs": [],
   "source": [
    "#3)\n",
    "#os.getcwd() \n",
    "#This method returns a string which represents the current working directory.\n",
    "#os.chdir()\n",
    "#This method returns a string which represents the current working directory.\n"
   ]
  },
  {
   "cell_type": "code",
   "execution_count": 15,
   "id": "fc6ce3b1",
   "metadata": {},
   "outputs": [],
   "source": [
    "#4)what are . and .. folders?\n",
    "#They are not real folders but special names that can be used in a path. \n",
    "#A single period (“dot”) for a folder name is shorthand for “this directory.” \n",
    "#Two periods (“dot-dot”) means “the parent folder.”"
   ]
  },
  {
   "cell_type": "code",
   "execution_count": 16,
   "id": "d7a1340e",
   "metadata": {},
   "outputs": [],
   "source": [
    "#5)C:\\Bacon\\eggs\\spam.txt which part is dir name and which part is base name?\n",
    "#C:\\Bacon\\eggs = Directory name\n",
    "#spam.txt   = Base name"
   ]
  },
  {
   "cell_type": "code",
   "execution_count": 17,
   "id": "209d7f41",
   "metadata": {},
   "outputs": [],
   "source": [
    "#6)what are the three modes of arguments that can be passed to open function?\n",
    "#REad(\"r\"),\n",
    "#write(\"w\"),\n",
    "#append(\"a\")"
   ]
  },
  {
   "cell_type": "code",
   "execution_count": 18,
   "id": "8553c753",
   "metadata": {},
   "outputs": [],
   "source": [
    "#7)what happens if existing file is opened in write mode?\n",
    "#it will erase the previous data content and start as a blank page"
   ]
  },
  {
   "cell_type": "code",
   "execution_count": 23,
   "id": "ac79ca17",
   "metadata": {},
   "outputs": [],
   "source": [
    "#8)How do you tell the difference between read() and readlines()\n",
    "#Read will read the entire date of the file\n",
    "#readlines will return a list of strings,where each string is aline from the file's contents.\n"
   ]
  },
  {
   "cell_type": "code",
   "execution_count": 49,
   "id": "491d535e",
   "metadata": {},
   "outputs": [],
   "source": [
    "#9)what data structure does the shelf value resemble?\n",
    "#the shelf value resembles a dictionary value.It has keys and values,along with keys()and values()\n",
    "#methods that work similarly to the dictionary methods"
   ]
  },
  {
   "cell_type": "code",
   "execution_count": null,
   "id": "221f31a1",
   "metadata": {},
   "outputs": [],
   "source": []
  }
 ],
 "metadata": {
  "kernelspec": {
   "display_name": "Python 3",
   "language": "python",
   "name": "python3"
  },
  "language_info": {
   "codemirror_mode": {
    "name": "ipython",
    "version": 3
   },
   "file_extension": ".py",
   "mimetype": "text/x-python",
   "name": "python",
   "nbconvert_exporter": "python",
   "pygments_lexer": "ipython3",
   "version": "3.8.8"
  }
 },
 "nbformat": 4,
 "nbformat_minor": 5
}
