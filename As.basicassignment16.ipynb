{
 "cells": [
  {
   "cell_type": "markdown",
   "id": "a8d2c808",
   "metadata": {},
   "source": [
    "1. Create a list called years_list, starting with the year of your birth, and each year thereafter until the year of your fifth birthday. For example, if you were born in 1980. the list would be years_list = [1980, 1981, 1982, 1983, 1984, 1985].\n",
    "years_list = [ele for ele in range(1997,1997+6)]"
   ]
  },
  {
   "cell_type": "code",
   "execution_count": 3,
   "id": "c6f0213a",
   "metadata": {},
   "outputs": [
    {
     "data": {
      "text/plain": [
       "[1986, 1987, 1988, 1989, 1990, 1991]"
      ]
     },
     "execution_count": 3,
     "metadata": {},
     "output_type": "execute_result"
    }
   ],
   "source": [
    "def years_list(y):\n",
    "    year_list=[i for i in range(y,y+6)]\n",
    "    return year_list\n",
    "years_list(1986)"
   ]
  },
  {
   "cell_type": "markdown",
   "id": "c843c8b6",
   "metadata": {},
   "source": [
    "2. In which year in years_list was your third birthday? Remember, you were 0 years of age for your first year.\n"
   ]
  },
  {
   "cell_type": "code",
   "execution_count": 6,
   "id": "debabe08",
   "metadata": {},
   "outputs": [
    {
     "data": {
      "text/plain": [
       "1989"
      ]
     },
     "execution_count": 6,
     "metadata": {},
     "output_type": "execute_result"
    }
   ],
   "source": [
    "years_list(1986)[3]"
   ]
  },
  {
   "cell_type": "markdown",
   "id": "d1379b19",
   "metadata": {},
   "source": [
    "3.In the years list, which year were you the oldest?"
   ]
  },
  {
   "cell_type": "code",
   "execution_count": 7,
   "id": "ff99172a",
   "metadata": {},
   "outputs": [
    {
     "data": {
      "text/plain": [
       "1991"
      ]
     },
     "execution_count": 7,
     "metadata": {},
     "output_type": "execute_result"
    }
   ],
   "source": [
    "years_list(1986)[-1]"
   ]
  },
  {
   "cell_type": "markdown",
   "id": "832bcc91",
   "metadata": {},
   "source": [
    "4. Make a list called things with these three strings as elements: \"mozzarella\", \"cinderella\", \"salmonella\"."
   ]
  },
  {
   "cell_type": "code",
   "execution_count": 12,
   "id": "4baf6a37",
   "metadata": {},
   "outputs": [
    {
     "data": {
      "text/plain": [
       "'Mozzarella'"
      ]
     },
     "execution_count": 12,
     "metadata": {},
     "output_type": "execute_result"
    }
   ],
   "source": [
    "things=[\"mozzarella\",\"cinderella\",\"salmonella\"]\n",
    "things\n",
    "things[0].capitalize()"
   ]
  },
  {
   "cell_type": "markdown",
   "id": "701861bd",
   "metadata": {},
   "source": [
    "5. Capitalize the element in things that refers to a person and then print the list. Did it change the element in the list?"
   ]
  },
  {
   "cell_type": "code",
   "execution_count": 17,
   "id": "2c616595",
   "metadata": {},
   "outputs": [
    {
     "name": "stdout",
     "output_type": "stream",
     "text": [
      "['mozzarella', 'Cinderella', 'salmonella']\n"
     ]
    }
   ],
   "source": [
    "for j in range(len(things)):\n",
    "    if things[j] == 'cinderalla':\n",
    "        things[j] = things[j].capitalize()\n",
    "print(things)"
   ]
  },
  {
   "cell_type": "markdown",
   "id": "f03244ab",
   "metadata": {},
   "source": [
    "6. Make a surprise list with the elements \"Groucho,\" \"Chico,\" and \"Harpo.\""
   ]
  },
  {
   "cell_type": "code",
   "execution_count": 18,
   "id": "32a182e7",
   "metadata": {},
   "outputs": [
    {
     "data": {
      "text/plain": [
       "['Groucho', 'Chico', 'Harpo']"
      ]
     },
     "execution_count": 18,
     "metadata": {},
     "output_type": "execute_result"
    }
   ],
   "source": [
    "surprise_list=['Groucho',\"Chico\",\"Harpo\"]\n",
    "surprise_list"
   ]
  },
  {
   "cell_type": "markdown",
   "id": "a5fdfd5f",
   "metadata": {},
   "source": [
    "7. Lowercase the last element of the surprise list, reverse it, and then capitalize it."
   ]
  },
  {
   "cell_type": "code",
   "execution_count": 27,
   "id": "c9400c8c",
   "metadata": {},
   "outputs": [
    {
     "data": {
      "text/plain": [
       "'Oprah'"
      ]
     },
     "execution_count": 27,
     "metadata": {},
     "output_type": "execute_result"
    }
   ],
   "source": [
    "surprise_list[-1].lower()[::-1].capitalize()"
   ]
  },
  {
   "cell_type": "markdown",
   "id": "1f535600",
   "metadata": {},
   "source": [
    "8. Make an English-to-French dictionary called e2f and print it. Here are your starter words: dog is chien, cat is chat, and walrus is morse."
   ]
  },
  {
   "cell_type": "code",
   "execution_count": 28,
   "id": "43b76db1",
   "metadata": {},
   "outputs": [
    {
     "name": "stdout",
     "output_type": "stream",
     "text": [
      "{'dog': 'chien', 'cat': 'chat', 'walrus': 'morse'}\n"
     ]
    }
   ],
   "source": [
    "e2f={'dog':'chien','cat':'chat','walrus':'morse'}\n",
    "print(e2f)"
   ]
  },
  {
   "cell_type": "markdown",
   "id": "4d5d7f6d",
   "metadata": {},
   "source": [
    "9.write the french word for walrus in your three-word dictionary e2f"
   ]
  },
  {
   "cell_type": "code",
   "execution_count": 31,
   "id": "52643389",
   "metadata": {},
   "outputs": [
    {
     "data": {
      "text/plain": [
       "'morse'"
      ]
     },
     "execution_count": 31,
     "metadata": {},
     "output_type": "execute_result"
    }
   ],
   "source": [
    "e2f.get(\"walrus\")"
   ]
  },
  {
   "cell_type": "markdown",
   "id": "6cbeaf94",
   "metadata": {},
   "source": [
    "10.Make the french to english dictionary called f2e from e2f.use the items method"
   ]
  },
  {
   "cell_type": "code",
   "execution_count": 37,
   "id": "1a899785",
   "metadata": {},
   "outputs": [
    {
     "name": "stdout",
     "output_type": "stream",
     "text": [
      "{'chien': 'dog', 'chat': 'cat', 'morse': 'walrus'}\n"
     ]
    }
   ],
   "source": [
    "f2e=dict([i[::-1]  for i in e2f.items()])\n",
    "print(f2e)"
   ]
  },
  {
   "cell_type": "markdown",
   "id": "296061c8",
   "metadata": {},
   "source": [
    "11.Print the English version of the French word chien using f2e"
   ]
  },
  {
   "cell_type": "code",
   "execution_count": 42,
   "id": "231bbb60",
   "metadata": {},
   "outputs": [
    {
     "data": {
      "text/plain": [
       "'dog'"
      ]
     },
     "execution_count": 42,
     "metadata": {},
     "output_type": "execute_result"
    }
   ],
   "source": [
    "f2e.get(\"chien\")"
   ]
  },
  {
   "cell_type": "markdown",
   "id": "c5457533",
   "metadata": {},
   "source": [
    "12.Make and print a set of English words from the keys in e2f"
   ]
  },
  {
   "cell_type": "code",
   "execution_count": 45,
   "id": "d4e02a57",
   "metadata": {},
   "outputs": [
    {
     "name": "stdout",
     "output_type": "stream",
     "text": [
      "['dog', 'cat', 'walrus']\n"
     ]
    }
   ],
   "source": [
    "print(list(f2e.values()))"
   ]
  },
  {
   "cell_type": "markdown",
   "id": "decbe527",
   "metadata": {},
   "source": [
    "13. Make a multilevel dictionary called life. Use these strings for the topmost keys: 'animals', 'plants', and 'other'. Make the 'animals' key refer to another dictionary with the keys 'cats', 'octopi', and 'emus'. Make the 'cats' key refer to a list of strings with the values 'Henri', 'Grumpy', and 'Lucy'. Make all the other keys refer to empty dictionaries."
   ]
  },
  {
   "cell_type": "code",
   "execution_count": 46,
   "id": "ad25434f",
   "metadata": {},
   "outputs": [
    {
     "name": "stdout",
     "output_type": "stream",
     "text": [
      "{'animals': {'cats': ['Henri', 'Grumpy', 'Lucy'], 'octopi': {}, 'emus': {}}, 'plants': {}, 'other': {}}\n"
     ]
    }
   ],
   "source": [
    "life = {\n",
    "    'animals':{\n",
    "        'cats':['Henri','Grumpy','Lucy'],\n",
    "        'octopi':{},\n",
    "        'emus':{}\n",
    "    },\n",
    "    'plants':{},\n",
    "    'other':{}\n",
    "}\n",
    "print(life)"
   ]
  },
  {
   "cell_type": "markdown",
   "id": "b908f910",
   "metadata": {},
   "source": [
    "14. Print the top-level keys of life."
   ]
  },
  {
   "cell_type": "code",
   "execution_count": 47,
   "id": "c70e0979",
   "metadata": {},
   "outputs": [
    {
     "name": "stdout",
     "output_type": "stream",
     "text": [
      "['cats', 'octopi', 'emus']\n"
     ]
    }
   ],
   "source": [
    "print(list(life['animals'].keys()))"
   ]
  },
  {
   "cell_type": "markdown",
   "id": "0eb4ca39",
   "metadata": {},
   "source": [
    "16. Print the values for life['animals']['cats']"
   ]
  },
  {
   "cell_type": "code",
   "execution_count": 48,
   "id": "f24e438a",
   "metadata": {},
   "outputs": [
    {
     "name": "stdout",
     "output_type": "stream",
     "text": [
      "['Henri', 'Grumpy', 'Lucy']\n"
     ]
    }
   ],
   "source": [
    "print(life['animals']['cats'])"
   ]
  }
 ],
 "metadata": {
  "kernelspec": {
   "display_name": "Python 3 (ipykernel)",
   "language": "python",
   "name": "python3"
  },
  "language_info": {
   "codemirror_mode": {
    "name": "ipython",
    "version": 3
   },
   "file_extension": ".py",
   "mimetype": "text/x-python",
   "name": "python",
   "nbconvert_exporter": "python",
   "pygments_lexer": "ipython3",
   "version": "3.9.7"
  }
 },
 "nbformat": 4,
 "nbformat_minor": 5
}
