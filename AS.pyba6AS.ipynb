{
 "cells": [
  {
   "cell_type": "code",
   "execution_count": 1,
   "id": "574ada88",
   "metadata": {},
   "outputs": [],
   "source": [
    "#1)Escape charcters are special characters \"\\\" to represent certain white spaces.."
   ]
  },
  {
   "cell_type": "code",
   "execution_count": 2,
   "id": "0b44e218",
   "metadata": {},
   "outputs": [],
   "source": [
    "#2)Escape characters n stands for  a new line whereas t stands for tab space\n"
   ]
  },
  {
   "cell_type": "code",
   "execution_count": 3,
   "id": "e5e12b58",
   "metadata": {},
   "outputs": [
    {
     "name": "stdout",
     "output_type": "stream",
     "text": [
      "I am Achutha\\Rugvedi\n"
     ]
    }
   ],
   "source": [
    "#3)It should be within the single or double quotes and should not be at the end of the string..\n",
    "A = 'I am Achutha\\Rugvedi'\n",
    "print(A)"
   ]
  },
  {
   "cell_type": "code",
   "execution_count": 4,
   "id": "7afa91bc",
   "metadata": {},
   "outputs": [],
   "source": [
    "#4) B = \"Howl's Moving castle\" since we have used a double quotes for the string,single quote \n",
    "#inside  the string would not be a problem\n"
   ]
  },
  {
   "cell_type": "code",
   "execution_count": 6,
   "id": "e7d3a2fc",
   "metadata": {},
   "outputs": [],
   "source": [
    "#5)we can write a string of any no. of new lines with triple quotes without using n character"
   ]
  },
  {
   "cell_type": "code",
   "execution_count": 7,
   "id": "681d7e05",
   "metadata": {},
   "outputs": [
    {
     "data": {
      "text/plain": [
       "'e'"
      ]
     },
     "execution_count": 7,
     "metadata": {},
     "output_type": "execute_result"
    }
   ],
   "source": [
    "#6)\n",
    "C=\"Hello,world!\"\n",
    "C[1]"
   ]
  },
  {
   "cell_type": "code",
   "execution_count": 8,
   "id": "8620923a",
   "metadata": {},
   "outputs": [
    {
     "data": {
      "text/plain": [
       "'Hello'"
      ]
     },
     "execution_count": 8,
     "metadata": {},
     "output_type": "execute_result"
    }
   ],
   "source": [
    "C[0:5]"
   ]
  },
  {
   "cell_type": "code",
   "execution_count": 9,
   "id": "a045f2d5",
   "metadata": {},
   "outputs": [
    {
     "data": {
      "text/plain": [
       "'Hello'"
      ]
     },
     "execution_count": 9,
     "metadata": {},
     "output_type": "execute_result"
    }
   ],
   "source": [
    "C[:5]"
   ]
  },
  {
   "cell_type": "code",
   "execution_count": 10,
   "id": "de1e8a68",
   "metadata": {},
   "outputs": [
    {
     "data": {
      "text/plain": [
       "'lo,world!'"
      ]
     },
     "execution_count": 10,
     "metadata": {},
     "output_type": "execute_result"
    }
   ],
   "source": [
    "C[3:]"
   ]
  },
  {
   "cell_type": "code",
   "execution_count": 11,
   "id": "ab77aefa",
   "metadata": {},
   "outputs": [
    {
     "data": {
      "text/plain": [
       "'HELLO'"
      ]
     },
     "execution_count": 11,
     "metadata": {},
     "output_type": "execute_result"
    }
   ],
   "source": [
    "\"hello\".upper()"
   ]
  },
  {
   "cell_type": "code",
   "execution_count": 14,
   "id": "ce9ad120",
   "metadata": {},
   "outputs": [
    {
     "data": {
      "text/plain": [
       "True"
      ]
     },
     "execution_count": 14,
     "metadata": {},
     "output_type": "execute_result"
    }
   ],
   "source": [
    "\"hello\".upper().isupper()"
   ]
  },
  {
   "cell_type": "code",
   "execution_count": 15,
   "id": "ede98f9c",
   "metadata": {},
   "outputs": [
    {
     "data": {
      "text/plain": [
       "'hello'"
      ]
     },
     "execution_count": 15,
     "metadata": {},
     "output_type": "execute_result"
    }
   ],
   "source": [
    "\"hello\".upper().lower()"
   ]
  },
  {
   "cell_type": "code",
   "execution_count": null,
   "id": "30eadb61",
   "metadata": {},
   "outputs": [],
   "source": [
    "#8)\n",
    "F =\"Remember,Remember,the fifth of july.\"\n",
    "F.split()\n"
   ]
  },
  {
   "cell_type": "code",
   "execution_count": null,
   "id": "488ecd53",
   "metadata": {},
   "outputs": [],
   "source": [
    "#9)\n",
    "F.join(\"there can be only one\".split())"
   ]
  },
  {
   "cell_type": "code",
   "execution_count": null,
   "id": "d89c0261",
   "metadata": {},
   "outputs": [],
   "source": [
    "#10)These functions respectively left-justify, right-justify and center a string in a field of \n",
    "#given width.They return a string that is at least width characters wide, created by padding the \n",
    "#string with the character fillchar (default is a space) until the given width on the right,\n",
    "#left or both sides. The string is never truncated."
   ]
  },
  {
   "cell_type": "code",
   "execution_count": null,
   "id": "18d86266",
   "metadata": {},
   "outputs": [],
   "source": [
    "#11)The Python String strip() is the best method available in python.\n",
    "#The function will remove given characters from the start and end of the original string."
   ]
  }
 ],
 "metadata": {
  "kernelspec": {
   "display_name": "Python 3",
   "language": "python",
   "name": "python3"
  },
  "language_info": {
   "codemirror_mode": {
    "name": "ipython",
    "version": 3
   },
   "file_extension": ".py",
   "mimetype": "text/x-python",
   "name": "python",
   "nbconvert_exporter": "python",
   "pygments_lexer": "ipython3",
   "version": "3.8.8"
  }
 },
 "nbformat": 4,
 "nbformat_minor": 5
}
