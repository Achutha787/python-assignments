{
 "cells": [
  {
   "cell_type": "code",
   "execution_count": 1,
   "id": "f198b96f",
   "metadata": {},
   "outputs": [],
   "source": [
    "#1)Two Values of the Boolean DAta type are True and False.First leeter should should always be capitalised.\n"
   ]
  },
  {
   "cell_type": "code",
   "execution_count": 2,
   "id": "03e24773",
   "metadata": {},
   "outputs": [],
   "source": [
    "#2)Three Different Types Of Boolean Operators Are OR,AND,NOT"
   ]
  },
  {
   "cell_type": "code",
   "execution_count": 3,
   "id": "ff00fdf3",
   "metadata": {},
   "outputs": [],
   "source": [
    "#3)False+False=False(0+0=0)\n",
    "#False+True=False(0+1=0)\n",
    "#True+False=False(1+0=0)\n",
    "#True+True=True(1+1=1)\n",
    "#false or false = False\n",
    "# True or False = True\n",
    "# False or True = True\n",
    "# True or True = True\n",
    "# Not True is False\n",
    "# Not False is True\n"
   ]
  },
  {
   "cell_type": "code",
   "execution_count": 4,
   "id": "97051dd4",
   "metadata": {},
   "outputs": [
    {
     "data": {
      "text/plain": [
       "False"
      ]
     },
     "execution_count": 4,
     "metadata": {},
     "output_type": "execute_result"
    }
   ],
   "source": [
    "#4)\n",
    "(5>4)and(3==5)"
   ]
  },
  {
   "cell_type": "code",
   "execution_count": 5,
   "id": "2c6c1f1f",
   "metadata": {},
   "outputs": [
    {
     "data": {
      "text/plain": [
       "False"
      ]
     },
     "execution_count": 5,
     "metadata": {},
     "output_type": "execute_result"
    }
   ],
   "source": [
    "#4)\n",
    "not(5>4)"
   ]
  },
  {
   "cell_type": "code",
   "execution_count": 9,
   "id": "9af6c9ed",
   "metadata": {},
   "outputs": [
    {
     "data": {
      "text/plain": [
       "True"
      ]
     },
     "execution_count": 9,
     "metadata": {},
     "output_type": "execute_result"
    }
   ],
   "source": [
    "#4)\n",
    "(5>4) or (3==5)"
   ]
  },
  {
   "cell_type": "code",
   "execution_count": 10,
   "id": "d1082004",
   "metadata": {},
   "outputs": [
    {
     "data": {
      "text/plain": [
       "False"
      ]
     },
     "execution_count": 10,
     "metadata": {},
     "output_type": "execute_result"
    }
   ],
   "source": [
    "#4)\n",
    "not(5>4)or(3==5)"
   ]
  },
  {
   "cell_type": "code",
   "execution_count": 11,
   "id": "82721f66",
   "metadata": {},
   "outputs": [
    {
     "data": {
      "text/plain": [
       "False"
      ]
     },
     "execution_count": 11,
     "metadata": {},
     "output_type": "execute_result"
    }
   ],
   "source": [
    "#4)\n",
    "(True and True) and (True and False)"
   ]
  },
  {
   "cell_type": "code",
   "execution_count": 12,
   "id": "28064843",
   "metadata": {},
   "outputs": [
    {
     "data": {
      "text/plain": [
       "True"
      ]
     },
     "execution_count": 12,
     "metadata": {},
     "output_type": "execute_result"
    }
   ],
   "source": [
    "#4)\n",
    "(not False)or (not True)"
   ]
  },
  {
   "cell_type": "code",
   "execution_count": 14,
   "id": "a8a5090c",
   "metadata": {},
   "outputs": [],
   "source": [
    "#5)SIX comparision operators\n",
    "#  EQUAL To                  =\n",
    "#  GREATER THAN              >\n",
    "#  LESS THAN                 <\n",
    "#  GREATER THAN OR EQUAL TO >=\n",
    "#  LESS THAN OR EQUAL TO    <=\n",
    "#   NOT EQUAL TO            <>"
   ]
  },
  {
   "cell_type": "code",
   "execution_count": 15,
   "id": "7c31588a",
   "metadata": {},
   "outputs": [],
   "source": [
    "# 6)EQUAL TO = This assigns the value of a variable\n",
    "# ASSIGNMENT OPERATOR IS == This checks whether two operands are equal or not.It returns boolean value(True or False)"
   ]
  },
  {
   "cell_type": "code",
   "execution_count": 58,
   "id": "a40eac58",
   "metadata": {},
   "outputs": [
    {
     "name": "stdout",
     "output_type": "stream",
     "text": [
      "ham\n",
      "spam\n"
     ]
    }
   ],
   "source": [
    "# 7)\n",
    "spam=0\n",
    "if spam == 10:\n",
    "    print('eggs')#1st block\n",
    "elif spam > 5:\n",
    "    print('bacon')#2nd  block\n",
    "else:\n",
    "    print('ham')#3rd  block\n",
    "print('spam')\n",
    "#proper indentation is very important in python"
   ]
  },
  {
   "cell_type": "code",
   "execution_count": 57,
   "id": "2280f8b4",
   "metadata": {},
   "outputs": [
    {
     "name": "stdout",
     "output_type": "stream",
     "text": [
      "enter your number1\n",
      "hello\n"
     ]
    }
   ],
   "source": [
    "#8)\n",
    "spam=int(input(\"enter your number\"))\n",
    "if spam == 1:\n",
    "    print(\"hello\")\n",
    "elif spam == 2:\n",
    "    print(\"howdy\")\n",
    "else:\n",
    "    print(\"greetings!\")\n",
    "    "
   ]
  },
  {
   "cell_type": "code",
   "execution_count": null,
   "id": "adb24d2a",
   "metadata": {},
   "outputs": [],
   "source": [
    "#9)control+C keys to come out of the endless loop"
   ]
  },
  {
   "cell_type": "code",
   "execution_count": 77,
   "id": "72f8ccf7",
   "metadata": {},
   "outputs": [],
   "source": [
    "#10)break statement allows you to exit  remaining iteration of the loop\n",
    "# continue statement stops the single current iteration of the loop\n"
   ]
  },
  {
   "cell_type": "code",
   "execution_count": 78,
   "id": "0c1b6ad2",
   "metadata": {},
   "outputs": [],
   "source": [
    "#11)range(10) means  default integers from 0 to 9.It will not include 10\n",
    "#range(0,10) means same range(10) which includes 0 to 9,which will exclude 10\n",
    "#range(0,10,1) means means integers from 0 to 9 with increament of 1.if we skip the increments\n",
    "# it will default increment as 1\n",
    "#syntax :\n",
    "range(start,stop,step)"
   ]
  },
  {
   "cell_type": "code",
   "execution_count": 87,
   "id": "ae1f9fe4",
   "metadata": {},
   "outputs": [
    {
     "name": "stdout",
     "output_type": "stream",
     "text": [
      "1\n",
      "2\n",
      "3\n",
      "4\n",
      "5\n",
      "6\n",
      "7\n",
      "8\n",
      "9\n",
      "10\n"
     ]
    }
   ],
   "source": [
    "#12) using for loop\n",
    "a=range(1,11)\n",
    "for n in a:\n",
    "    print(n)"
   ]
  },
  {
   "cell_type": "code",
   "execution_count": 93,
   "id": "a6325cf7",
   "metadata": {},
   "outputs": [
    {
     "name": "stdout",
     "output_type": "stream",
     "text": [
      "1\n",
      "2\n",
      "3\n",
      "4\n",
      "5\n",
      "6\n",
      "7\n",
      "8\n",
      "9\n",
      "10\n",
      "end\n"
     ]
    }
   ],
   "source": [
    "#12) using while loop\n",
    "i=1\n",
    "while i<=10:\n",
    "    print(i)\n",
    "    i=i+1\n",
    "else:\n",
    "    print(\"end\")"
   ]
  },
  {
   "cell_type": "code",
   "execution_count": null,
   "id": "4af9d783",
   "metadata": {},
   "outputs": [],
   "source": [
    "#13) this function can be called with spam.bacon()"
   ]
  }
 ],
 "metadata": {
  "kernelspec": {
   "display_name": "Python 3",
   "language": "python",
   "name": "python3"
  },
  "language_info": {
   "codemirror_mode": {
    "name": "ipython",
    "version": 3
   },
   "file_extension": ".py",
   "mimetype": "text/x-python",
   "name": "python",
   "nbconvert_exporter": "python",
   "pygments_lexer": "ipython3",
   "version": "3.8.8"
  }
 },
 "nbformat": 4,
 "nbformat_minor": 5
}
