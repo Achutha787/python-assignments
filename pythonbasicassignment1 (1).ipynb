{
 "cells": [
  {
   "cell_type": "code",
   "execution_count": 3,
   "id": "b1f3ec8e",
   "metadata": {},
   "outputs": [],
   "source": [
    "#1)VALUES ARE \"hello\",6,-87.8\n",
    "   #EXPRESSIONS ARE *,-,/,+(MATHEMATICAL OPERATORS)"
   ]
  },
  {
   "cell_type": "code",
   "execution_count": 4,
   "id": "7eda6d07",
   "metadata": {},
   "outputs": [],
   "source": [
    "#2)Variable is a name given to the memory location in a program.\n",
    "   #String is a data type which has to be included in a single,double or triple quotes."
   ]
  },
  {
   "cell_type": "code",
   "execution_count": 5,
   "id": "7b39fbc0",
   "metadata": {},
   "outputs": [],
   "source": [
    "#3)Three different data types are \n",
    "#Integers(any numbers)\n",
    "#Strings(which should  be included in single quote,double quote, or triple quote)\n",
    "#Boolean(true or false)(1 or 0)\n"
   ]
  },
  {
   "cell_type": "code",
   "execution_count": 6,
   "id": "1ac99fb5",
   "metadata": {},
   "outputs": [],
   "source": [
    "#4)Expresssions are mathematical operators which includes +addition,-substraction,*multiplication,/Division"
   ]
  },
  {
   "cell_type": "code",
   "execution_count": 7,
   "id": "d2880d36",
   "metadata": {},
   "outputs": [],
   "source": [
    "#5)spam=10\n",
    "#expression is mathematical operation which it does.\n",
    "#This statement spam=10 is just assigning a value of 10 to the spam"
   ]
  },
  {
   "cell_type": "code",
   "execution_count": 8,
   "id": "78b1f73f",
   "metadata": {},
   "outputs": [
    {
     "data": {
      "text/plain": [
       "23"
      ]
     },
     "execution_count": 8,
     "metadata": {},
     "output_type": "execute_result"
    }
   ],
   "source": [
    "#6)\n",
    "bacon=22\n",
    "bacon+1\n",
    "#value of a variable will be 23"
   ]
  },
  {
   "cell_type": "code",
   "execution_count": 14,
   "id": "16583ba0",
   "metadata": {},
   "outputs": [
    {
     "ename": "TypeError",
     "evalue": "unsupported operand type(s) for +: 'int' and 'str'",
     "output_type": "error",
     "traceback": [
      "\u001b[1;31m---------------------------------------------------------------------------\u001b[0m",
      "\u001b[1;31mTypeError\u001b[0m                                 Traceback (most recent call last)",
      "\u001b[1;32m<ipython-input-14-246caa396b3b>\u001b[0m in \u001b[0;36m<module>\u001b[1;34m\u001b[0m\n\u001b[0;32m      1\u001b[0m \u001b[1;31m#7)\u001b[0m\u001b[1;33m\u001b[0m\u001b[1;33m\u001b[0m\u001b[1;33m\u001b[0m\u001b[0m\n\u001b[1;32m----> 2\u001b[1;33m \u001b[0mspam\u001b[0m\u001b[1;33m+\u001b[0m\u001b[1;34m'spamspam'\u001b[0m\u001b[1;33m\u001b[0m\u001b[1;33m\u001b[0m\u001b[0m\n\u001b[0m\u001b[0;32m      3\u001b[0m \u001b[1;31m#we cannot add integer and string.string should always be in quotes\u001b[0m\u001b[1;33m\u001b[0m\u001b[1;33m\u001b[0m\u001b[1;33m\u001b[0m\u001b[0m\n",
      "\u001b[1;31mTypeError\u001b[0m: unsupported operand type(s) for +: 'int' and 'str'"
     ]
    }
   ],
   "source": [
    "#7)\n",
    "spam+'spamspam'\n",
    "#we cannot add integer and string.string should always be in quotes\n"
   ]
  },
  {
   "cell_type": "code",
   "execution_count": 19,
   "id": "4d52cf39",
   "metadata": {},
   "outputs": [
    {
     "data": {
      "text/plain": [
       "30"
      ]
     },
     "execution_count": 19,
     "metadata": {},
     "output_type": "execute_result"
    }
   ],
   "source": [
    "#7)\n",
    "spam*3"
   ]
  },
  {
   "cell_type": "code",
   "execution_count": 20,
   "id": "4830641a",
   "metadata": {},
   "outputs": [],
   "source": [
    "#8)Variable name should never start with numbers.it can start with alphabets,digits or underscore.\n",
    "#so,eggs is valid variable name and 100 is an invalid  variable name"
   ]
  },
  {
   "cell_type": "code",
   "execution_count": 21,
   "id": "dce3cc76",
   "metadata": {},
   "outputs": [],
   "source": [
    "#9)int function for integer\n",
    "#float function for decimal number\n",
    "#Str function for string value which should be within single,double or triple quotes\n"
   ]
  },
  {
   "cell_type": "code",
   "execution_count": 24,
   "id": "9d338457",
   "metadata": {},
   "outputs": [
    {
     "data": {
      "text/plain": [
       "'i have eaten  99 biscuits'"
      ]
     },
     "execution_count": 24,
     "metadata": {},
     "output_type": "execute_result"
    }
   ],
   "source": [
    "#10) 99 is an integer.we cannot add string with integer without converting it.so,convert the \n",
    "# 99 integer as a string value by including it in a single or double quote.\n",
    "'i have eaten '+' 99'+' biscuits'\n"
   ]
  },
  {
   "cell_type": "code",
   "execution_count": null,
   "id": "18b45898",
   "metadata": {},
   "outputs": [],
   "source": []
  }
 ],
 "metadata": {
  "kernelspec": {
   "display_name": "Python 3",
   "language": "python",
   "name": "python3"
  },
  "language_info": {
   "codemirror_mode": {
    "name": "ipython",
    "version": 3
   },
   "file_extension": ".py",
   "mimetype": "text/x-python",
   "name": "python",
   "nbconvert_exporter": "python",
   "pygments_lexer": "ipython3",
   "version": "3.8.8"
  }
 },
 "nbformat": 4,
 "nbformat_minor": 5
}
