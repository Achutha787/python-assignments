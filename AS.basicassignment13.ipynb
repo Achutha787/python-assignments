{
 "cells": [
  {
   "cell_type": "markdown",
   "id": "074d9f6e",
   "metadata": {},
   "source": [
    "1. What advantages do Excel spreadsheets have over CSV spreadsheets?"
   ]
  },
  {
   "cell_type": "code",
   "execution_count": null,
   "id": "34c888ea",
   "metadata": {},
   "outputs": [],
   "source": [
    "#Excel (XLS and XLSX) file formats are better for storing and analysing complex data.\n",
    "#An Excel not only stores data but can also do operations on the data using macros, formulas etc\n",
    "#CSV files are plain-text files, Does not contain formatting, formulas, macros, etc. It is also known as flat files\""
   ]
  },
  {
   "cell_type": "markdown",
   "id": "0f213328",
   "metadata": {},
   "source": [
    "#2)WHAT DO YOU PASS TO THE CSV.READER() AND CSV.WRITER() TO CREATE READER AND WRITER OBJECTS?\""
   ]
  },
  {
   "cell_type": "code",
   "execution_count": 1,
   "id": "d5e9e77f",
   "metadata": {},
   "outputs": [
    {
     "name": "stdout",
     "output_type": "stream",
     "text": [
      "['id', 'location_id', 'organization_id', 'service_id', 'name', 'title', 'email', 'department']\n",
      "['1', '1', '', '', 'Susan Houston', 'Director of Older Adult Services', '', '']\n",
      "['2', '1', '', '', 'Christina Gonzalez', 'Center Director', '', '']\n",
      "['3', '2', '', '', 'Brenda Brown', 'Director, Second Career Services', '', '']\n",
      "['4', '3', '', '', 'Howard Lader, LCSW', 'Manager, Senior Peer Counseling', '', '']\n",
      "['5', '4', '', '', 'Kimberly Pesavento', 'Director of Visitation', '', '']\n",
      "['6', '5', '', '', 'Joe Bloom', 'Financial Empowerment Programs Program Director', '', '']\n",
      "['7', '6', '', '', 'Peter Olson', 'Little House Director', '', '']\n",
      "['8', '6', '', '', 'Bart Charlow', 'Executive Director, Peninsula Volunteers', '', '']\n",
      "['9', '7', '', '', 'Bart Charlow', 'Executive Director, Peninsula Volunteers', '', '']\n",
      "['10', '7', '', '', 'Barbara Kalt', 'Director', '', '']\n",
      "['11', '8', '', '', 'Marilyn Baker-Venturini', 'Director', '', '']\n",
      "['12', '8', '', '', 'Graciela Hernandez', 'Assistant Manager', '', '']\n",
      "['13', '8', '', '', 'Julie Avelino', 'Assessment Specialist', '', '']\n",
      "['14', '9', '', '', 'Dave Genesy', 'Library Director', '', '']\n",
      "['15', '9', '', '', 'Maria Kramer', 'Library Divisions Manager', '', '']\n",
      "['16', '10', '', '', 'Dave Genesy', 'Library Director', '', '']\n",
      "['17', '10', '', '', 'Maria Kramer', 'Library Division Manager', '', '']\n",
      "['18', '11', '', '', 'Dave Genesy', 'Library Director', '', '']\n",
      "['19', '11', '', '', 'Elizabeth Meeks', 'Branch Manager', '', '']\n",
      "['20', '12', '', '', 'Kathy Endaya', 'Director', '', '']\n",
      "['21', '13', '', '', 'Dave Genesy', 'Library Director', '', '']\n",
      "['22', '14', '', '', 'Andres Espinoza', 'Captain, Commanding Officer', '', '']\n",
      "['23', '15', '', '', 'Jack Phillips', 'Administrator', '', '']\n",
      "['24', '16', '', '', 'James Lee', 'Commanding Officer', '', '']\n",
      "['25', '17', '', '', 'Kenneth Gibson', 'Major', '', '']\n",
      "['26', '18', '', '', 'Sharon Petersen', 'Administrator', '', '']\n",
      "['27', '19', '', '', 'Sharon Petersen', 'Administrator', '', '']\n",
      "['28', '21', '', '', 'Moncef', '', '', 'Office of Innovation']\n",
      "['29', '22', '', '', 'Suzanne Badenhoop', 'Board President', 'suzanne@example.com', 'Referrals']\n",
      "['32', '', '8', '', 'Elizabeth Feeney', 'CEO', 'e.feeney@foobar.org', 'Operations']\n",
      "['36', '', '', '22', 'Joe Smith', 'CalFresh Specialist', 'john.smith@example.org', 'CalFresh Applications']\n"
     ]
    }
   ],
   "source": [
    "import csv\n",
    "with open('contacts.csv','r') as file:\n",
    "    csv_file = csv.reader(file,delimiter=',')\n",
    "    for ele in csv_file:\n",
    "        print(ele)"
   ]
  },
  {
   "cell_type": "markdown",
   "id": "7b46a7c0",
   "metadata": {},
   "source": [
    "3. What modes do File objects for reader and writer objects need to be opened in?"
   ]
  },
  {
   "cell_type": "code",
   "execution_count": null,
   "id": "7a49a84b",
   "metadata": {},
   "outputs": [],
   "source": [
    "For csv.reader(iterable_file_object), the file objects needed to be opened in read mode mode='r' \n",
    "Whereas for csv.writer(iterable_file_object) the file objects needed to be opened in write mode mode='w'"
   ]
  },
  {
   "cell_type": "markdown",
   "id": "7608e188",
   "metadata": {},
   "source": [
    "#4. What method takes a list argument and writes it to a CSV file?"
   ]
  },
  {
   "cell_type": "code",
   "execution_count": null,
   "id": "a1806673",
   "metadata": {},
   "outputs": [],
   "source": [
    "csv.writer class provides two methods for writing to CSV. They are writerow() and writerows(). writerow() method writes a \n",
    "single row at a time.Whereas writerows() method is used to write multiple rows at a time."
   ]
  },
  {
   "cell_type": "code",
   "execution_count": 2,
   "id": "703349ad",
   "metadata": {},
   "outputs": [],
   "source": [
    "# Example Program\n",
    "import csv      \n",
    "fields = ['Name', 'Branch', 'Year', 'CGPA'] #column names \n",
    "rows = [ \n",
    "            ['Nikhil', 'COE', '2', '9.0'],  # data rows of csv file \n",
    "            ['Sanchit', 'COE', '2', '9.1'], \n",
    "            ['Ravi', 'IT', '2', '9.3']\n",
    "       ] \n",
    "with open(\"university_records.csv\", 'w') as csvfile: \n",
    "    csvwriter = csv.writer(csvfile) # creating a csv writer object \n",
    "    csvwriter.writerow(fields) # writing the fields \n",
    "    csvwriter.writerows(rows) # writing the data rows "
   ]
  },
  {
   "cell_type": "markdown",
   "id": "c06aee1b",
   "metadata": {},
   "source": [
    "#5. What do the keyword arguments delimiter and line terminator do?"
   ]
  },
  {
   "cell_type": "code",
   "execution_count": null,
   "id": "1307ab13",
   "metadata": {},
   "outputs": [],
   "source": [
    "Lets take the example of a csv file:\n",
    "First Name, Last Name, Age\n",
    "Mano, Vishnu, 24\n",
    "Vishnu, Vardhan, 21\n",
    "Here ',' is Delimiter. We can use any Character as per our needs if required.\n",
    "Similarly Line Terminator comes at end of line by default it is newline and can be changed accourding to Requirement"
   ]
  },
  {
   "cell_type": "markdown",
   "id": "0bd31b1c",
   "metadata": {},
   "source": [
    "6. What function takes a string of JSON data and returns a Python data structure?"
   ]
  },
  {
   "cell_type": "code",
   "execution_count": null,
   "id": "94013f3b",
   "metadata": {},
   "outputs": [],
   "source": [
    "loads() method takes a string of JSON data and returns a Python data structure"
   ]
  },
  {
   "cell_type": "code",
   "execution_count": 3,
   "id": "e01e812a",
   "metadata": {},
   "outputs": [
    {
     "name": "stdout",
     "output_type": "stream",
     "text": [
      "{\n",
      "    \"Name\": \"Mano Vishnu\",\n",
      "    \"Qualification\": \"Bachelor of Technology\",\n",
      "    \"Stream\": \"Computer Science and Engineering\"\n",
      "}\n",
      "Type of my_details_json is <class 'str'>\n",
      "{'Name': 'Mano Vishnu', 'Qualification': 'Bachelor of Technology', 'Stream': 'Computer Science and Engineering'}\n",
      "Type of my_details is <class 'dict'>\n"
     ]
    }
   ],
   "source": [
    "# Example of json.loads() method\n",
    "import json\n",
    "my_details_json ='''{\n",
    "    \"Name\": \"Mano Vishnu\",\n",
    "    \"Qualification\": \"Bachelor of Technology\",\n",
    "    \"Stream\": \"Computer Science and Engineering\"\n",
    "}'''\n",
    "print(my_details_json)\n",
    "print(f'Type of my_details_json is {type(my_details_json)}')\n",
    "my_details = json.loads(my_details_json)\n",
    "print(my_details)\n",
    "print(f'Type of my_details is {type(my_details)}')"
   ]
  },
  {
   "cell_type": "markdown",
   "id": "b3e5967c",
   "metadata": {},
   "source": [
    "#7. What function takes a Python data structure and returns a string of JSON data?"
   ]
  },
  {
   "cell_type": "code",
   "execution_count": null,
   "id": "8e01a332",
   "metadata": {},
   "outputs": [],
   "source": [
    "dumps() method takes a python data structure and returns a string of JSON data"
   ]
  },
  {
   "cell_type": "code",
   "execution_count": 5,
   "id": "bf4e6e2e",
   "metadata": {},
   "outputs": [
    {
     "name": "stdout",
     "output_type": "stream",
     "text": [
      "{'Name': 'Mano Vishnu', 'Stream': 'Computer Science and Engineering', 'Qualification': 'Bachelor of Technology'}\n",
      "Type of my_details is <class 'dict'>\n",
      "{\n",
      "    \"Name\": \"Mano Vishnu\",\n",
      "    \"Qualification\": \"Bachelor of Technology\",\n",
      "    \"Stream\": \"Computer Science and Engineering\"\n",
      "}\n",
      "Type of my_details_json is <class 'str'>\n"
     ]
    }
   ],
   "source": [
    "# Example of json.dumps() method\n",
    "import json\n",
    "my_details = {\n",
    "    'Name':'Mano Vishnu',\n",
    "    'Stream':'Computer Science and Engineering',\n",
    "    'Qualification':'Bachelor of Technology'\n",
    "}\n",
    "print(my_details)\n",
    "print(f'Type of my_details is {type(my_details)}')\n",
    "my_details_json = json.dumps(my_details, indent=4, sort_keys=True)\n",
    "print(my_details_json)\n",
    "print(f'Type of my_details_json is {type(my_details_json)}')"
   ]
  },
  {
   "cell_type": "code",
   "execution_count": null,
   "id": "7034506c",
   "metadata": {},
   "outputs": [],
   "source": []
  }
 ],
 "metadata": {
  "kernelspec": {
   "display_name": "Python 3 (ipykernel)",
   "language": "python",
   "name": "python3"
  },
  "language_info": {
   "codemirror_mode": {
    "name": "ipython",
    "version": 3
   },
   "file_extension": ".py",
   "mimetype": "text/x-python",
   "name": "python",
   "nbconvert_exporter": "python",
   "pygments_lexer": "ipython3",
   "version": "3.9.7"
  }
 },
 "nbformat": 4,
 "nbformat_minor": 5
}
