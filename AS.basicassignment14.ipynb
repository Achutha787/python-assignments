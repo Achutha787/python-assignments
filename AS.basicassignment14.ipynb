{
 "cells": [
  {
   "cell_type": "markdown",
   "id": "f9e8626d",
   "metadata": {},
   "source": [
    "#1)what does the RGBA stands for?"
   ]
  },
  {
   "cell_type": "markdown",
   "id": "37cf1d81",
   "metadata": {},
   "source": [
    "RGBA stands for RED,GREEN,BLUE,and ALPHA value.ALPHA represents Opacity"
   ]
  },
  {
   "cell_type": "markdown",
   "id": "3bb8495e",
   "metadata": {},
   "source": [
    "#2)FROM THE PILLOW MODULE HOW DO YOU GET THE RGBA VALUE OF ANY IMAGES?"
   ]
  },
  {
   "cell_type": "code",
   "execution_count": null,
   "id": "2ef2d14f",
   "metadata": {},
   "outputs": [],
   "source": [
    "Imagecolur.getcolour() will get the RGBA value of any image"
   ]
  },
  {
   "cell_type": "markdown",
   "id": "5659f970",
   "metadata": {},
   "source": [
    "#3)What is a box tuple,and how does it work?"
   ]
  },
  {
   "cell_type": "code",
   "execution_count": null,
   "id": "f57514bb",
   "metadata": {},
   "outputs": [],
   "source": [
    "The box tuple is a tuple value of  4 integers.left X-cordinate,topedge Y-coordinate,width and the heigth respectively"
   ]
  },
  {
   "cell_type": "markdown",
   "id": "1a798058",
   "metadata": {},
   "source": [
    "#4)USE YOUR IMAGE AND LOAD IN NOTEBOOK THEN,HOW CAN YOU FIND THE WIDTH AND THE HEIGHT OF THE IMAGE OBJECT?"
   ]
  },
  {
   "cell_type": "code",
   "execution_count": 3,
   "id": "7ed3a062",
   "metadata": {},
   "outputs": [
    {
     "name": "stdout",
     "output_type": "stream",
     "text": [
      "Width, Height -> (612, 408)\n",
      "Width, Height -> 612,408\n",
      "Width, Height -> 612,408\n"
     ]
    }
   ],
   "source": [
    "#Example Program\n",
    "from PIL import Image\n",
    "pic = Image.open('myimage.jpg')\n",
    "print(f'Width, Height -> {pic.size}') # Approach 1\n",
    "print(f'Width, Height -> {pic.width},{pic.height}') # Approach 2\n",
    "width,height = pic.size\n",
    "print(f'Width, Height -> {width},{height}') # Approach 3"
   ]
  },
  {
   "cell_type": "markdown",
   "id": "3ab7147b",
   "metadata": {},
   "source": [
    "#5)What method would you call to get Image object for a 100×100 image, excluding the lower-left quarter of it?"
   ]
  },
  {
   "cell_type": "code",
   "execution_count": 6,
   "id": "38836d12",
   "metadata": {},
   "outputs": [],
   "source": [
    "from PIL import Image\n",
    "img = Image.open('myimage.jpg')\n",
    "new_img = img.crop((0,50,50,50))"
   ]
  },
  {
   "cell_type": "markdown",
   "id": "2aa800e3",
   "metadata": {},
   "source": [
    "#6)AFTER MAKING THE CHANGES IN THE IMAGE OBJECT,HOW COULD YOU SAVE IT AS AN IMAGE FILE?"
   ]
  },
  {
   "cell_type": "code",
   "execution_count": 7,
   "id": "a06e86ad",
   "metadata": {},
   "outputs": [],
   "source": [
    "#Example Program\n",
    "from PIL import Image\n",
    "pic = Image.open('myimage.jpg')\n",
    "pic.save('pic3.jpg')"
   ]
  },
  {
   "cell_type": "markdown",
   "id": "40bf8607",
   "metadata": {},
   "source": [
    "#7)WHAT MODULE CONTAINS THE Pillow's shape drawing code?"
   ]
  },
  {
   "cell_type": "code",
   "execution_count": null,
   "id": "dda1d9d2",
   "metadata": {},
   "outputs": [],
   "source": [
    "Pillow's imagedraw method contains the shape drawing methods"
   ]
  },
  {
   "cell_type": "markdown",
   "id": "1e9c4eac",
   "metadata": {},
   "source": [
    "#8)Image Objects do not have drawing methods.what kind of object does?How do you get this kind of object?"
   ]
  },
  {
   "cell_type": "code",
   "execution_count": null,
   "id": "7d98425a",
   "metadata": {},
   "outputs": [],
   "source": [
    "ImageDraw objects have shape-drawing methods such as point(), line(), or rectangle().\n",
    "They are returned by passing the Image object to the ImageDraw.Draw() function."
   ]
  }
 ],
 "metadata": {
  "kernelspec": {
   "display_name": "Python 3 (ipykernel)",
   "language": "python",
   "name": "python3"
  },
  "language_info": {
   "codemirror_mode": {
    "name": "ipython",
    "version": 3
   },
   "file_extension": ".py",
   "mimetype": "text/x-python",
   "name": "python",
   "nbconvert_exporter": "python",
   "pygments_lexer": "ipython3",
   "version": "3.9.7"
  }
 },
 "nbformat": 4,
 "nbformat_minor": 5
}
