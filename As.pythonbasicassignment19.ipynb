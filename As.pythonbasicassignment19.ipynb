{
 "cells": [
  {
   "cell_type": "markdown",
   "id": "b74b5913",
   "metadata": {},
   "source": [
    "#MAKE A CLASS CALLED THING WITH NO CONTENTS AND PRINT IT.THEN,CREATE AN OBJECT CALLED EXAMPLE FROM THIS CLASS AND ALSO \n",
    "#PRINT IT.ARE THE PRINTED VALUES SAME OR DIFFERRENT?"
   ]
  },
  {
   "cell_type": "code",
   "execution_count": null,
   "id": "02934902",
   "metadata": {},
   "outputs": [],
   "source": [
    "class thing():\n",
    "    pass\n",
    "print(thing)\n",
    "example=thing()\n",
    "print(example)"
   ]
  },
  {
   "cell_type": "markdown",
   "id": "bdf9b5b0",
   "metadata": {},
   "source": [
    "#2)CREATE A NEW CLASS CALLED THING2 AND ADD THE VALUE'ABC' TO THE LETTERS CLASS ATTRIBUTE.LETTERS SHOULD BE PRINTED"
   ]
  },
  {
   "cell_type": "code",
   "execution_count": null,
   "id": "abcf21fd",
   "metadata": {},
   "outputs": [],
   "source": [
    "class Thing2():\n",
    "    letters=\"abc\"\n",
    "print(Thing2.letters)"
   ]
  },
  {
   "cell_type": "code",
   "execution_count": null,
   "id": "c73614e8",
   "metadata": {},
   "outputs": [],
   "source": [
    "#3)MAKE AN YET ANOTHER CLASS CALLED,OFCOURSE THING3.THIS TIME,ASSIGN THE VALUE'XYZ' TO AN INSTANCE(OBJECT) ATTRIBUTE CALLED \n",
    "#LETTERS.PRINT LETTERS.DO YOU NEED TO MAKE AN OBJECT FROM THE CLASS TO DO THIS?"
   ]
  },
  {
   "cell_type": "code",
   "execution_count": null,
   "id": "18fb1181",
   "metadata": {},
   "outputs": [],
   "source": [
    "class Thing3():\n",
    "    def __init__(self):\n",
    "        self.letters='xyz'\n",
    "try:\n",
    "    print(Thing3.letters)#this will give syntax error\n",
    "except:\n",
    "    mything=Thing3()\n",
    "    print(mything.letters)\n",
    "\n"
   ]
  },
  {
   "cell_type": "markdown",
   "id": "99716215",
   "metadata": {},
   "source": [
    "#4)CREATE AN ELEMENT CLASS WITH THE INSTANCE ATTRIBUTES NAME,SYMBOL, AND NUMBER.CREATE A CLASS OBJECT WITH THE VALUES \n",
    "#'hYDROGEN',\"H\" AND \"I\"\n"
   ]
  },
  {
   "cell_type": "code",
   "execution_count": null,
   "id": "5663ad49",
   "metadata": {},
   "outputs": [],
   "source": [
    "class element:\n",
    "    def __init__(self,name,symbol,number):\n",
    "        self.name= name\n",
    "        self.symbol= symbol\n",
    "        self.number = number\n",
    "myelements= element('Hydrogen','H',1)\n",
    "    "
   ]
  },
  {
   "cell_type": "markdown",
   "id": "25e6ff2b",
   "metadata": {},
   "source": [
    "'''5. Make a dictionary with these keys and values: 'name': 'Hydrogen', 'symbol': 'H', 'number': 1. Then, create an object \n",
    "called hydrogen from class Element using this dictionary.'''"
   ]
  },
  {
   "cell_type": "code",
   "execution_count": null,
   "id": "5594c994",
   "metadata": {},
   "outputs": [],
   "source": [
    "d1={\"name\":\"Hydrogen\",\"symbol\":\"H\",\"number\":1}\n",
    "print(d1)\n",
    "hydrogen=element(**d1)\n",
    "print(hydrogen.name,hydrogen.symbol,hydrogen.number,sep='\\t')"
   ]
  },
  {
   "cell_type": "markdown",
   "id": "26136a51",
   "metadata": {},
   "source": [
    "'''6. For the Element class, define a method called dump() that prints the values of the object’s attributes (name, symbol, and number).\n",
    " Create the hydrogen object from this new definition and use dump() to print its attributes.'''"
   ]
  },
  {
   "cell_type": "code",
   "execution_count": 2,
   "id": "47adfa39",
   "metadata": {},
   "outputs": [
    {
     "name": "stdout",
     "output_type": "stream",
     "text": [
      "Hydrogen H 1\n"
     ]
    }
   ],
   "source": [
    "class element:\n",
    "    def __init__(self,name,symbol,number):\n",
    "        self.name= name\n",
    "        self.symbol= symbol\n",
    "        self.number = number\n",
    "    def dump(self):\n",
    "        print(self.name,self.symbol,self.number)\n",
    "hydrogen=element('Hydrogen','H',1)\n",
    "hydrogen.dump()        \n",
    "    "
   ]
  },
  {
   "cell_type": "markdown",
   "id": "b2ea3672",
   "metadata": {},
   "source": [
    "'''7. Call print(hydrogen). In the definition of Element, change the name of method dump to __str__, create a new hydrogen object,and call print(hydrogen) again.'''"
   ]
  },
  {
   "cell_type": "code",
   "execution_count": 3,
   "id": "66a18d66",
   "metadata": {},
   "outputs": [
    {
     "name": "stdout",
     "output_type": "stream",
     "text": [
      "<__main__.element object at 0x000001F348CB8910>\n",
      "Hydrogen,H,1\n"
     ]
    }
   ],
   "source": [
    "print(hydrogen)\n",
    "\n",
    "class element:\n",
    "    def __init__(self,name,symbol,number):\n",
    "        self.name= name\n",
    "        self.symbol= symbol\n",
    "        self.number = number\n",
    "    def __str__(self):\n",
    "        return f'{self.name},{self.symbol},{self.number}'\n",
    "hydrogen=element('Hydrogen','H',1)\n",
    "print(hydrogen) "
   ]
  },
  {
   "cell_type": "markdown",
   "id": "f87b83de",
   "metadata": {},
   "source": [
    "'''8. Modify Element to make the attributes name, symbol, and number private. \n",
    "Define a getter property for each to return its value.'''"
   ]
  },
  {
   "cell_type": "code",
   "execution_count": 4,
   "id": "9b7e4168",
   "metadata": {},
   "outputs": [
    {
     "name": "stdout",
     "output_type": "stream",
     "text": [
      "Hydrogen\n",
      "H\n",
      "1\n"
     ]
    }
   ],
   "source": [
    "class element:\n",
    "    def __init__(self,name,symbol,number):\n",
    "        self.__name = name\n",
    "        self.__symbol = symbol\n",
    "        self.__number = number\n",
    "    \n",
    "    @property\n",
    "    def getname(self):\n",
    "        return self.__name\n",
    "    \n",
    "    @property\n",
    "    def getsymbol(self):\n",
    "        return self.__symbol\n",
    "    \n",
    "    @property\n",
    "    def getnumber(self):\n",
    "        return self.__number\n",
    "    \n",
    "hydrogen = element('Hydrogen','H',1)\n",
    "print(hydrogen.getname)\n",
    "print(hydrogen.getsymbol)\n",
    "print(hydrogen.getnumber)"
   ]
  },
  {
   "cell_type": "markdown",
   "id": "a3a3a812",
   "metadata": {},
   "source": [
    "9. Define three classes: Bear, Rabbit, and Octothorpe. For each, define only one method: eats(). This should return 'berries' (Bear), 'clover' (Rabbit), or 'campers' (Octothorpe). \n",
    "    Create one object from each and print what it eats."
   ]
  },
  {
   "cell_type": "code",
   "execution_count": null,
   "id": "76dae4b2",
   "metadata": {},
   "outputs": [],
   "source": [
    "class Bear:\n",
    "    def eats(self):\n",
    "        print('berries')\n",
    "class Rabbit:\n",
    "    def eats(self):\n",
    "        print('clover')\n",
    "class Octothorpe:\n",
    "    def eats(self):\n",
    "        print('campers')\n",
    "        \n",
    "bear = Bear()\n",
    "rabbit = Rabbit()\n",
    "octothrope = Octothorpe()\n",
    "\n",
    "bear.eats()\n",
    "rabbit.eats()\n",
    "octothrope.eats()"
   ]
  },
  {
   "cell_type": "markdown",
   "id": "1f9a5866",
   "metadata": {},
   "source": [
    "10. Define these classes: Laser, Claw, and SmartPhone. Each has only one method: does(). This returns 'disintegrate' (Laser), 'crush' (Claw), or 'ring' (SmartPhone). Then, define the class Robot that has one instance (object) of each of these. Define a does() method for the Robot that prints what its component objects do."
   ]
  },
  {
   "cell_type": "code",
   "execution_count": 5,
   "id": "036282fe",
   "metadata": {},
   "outputs": [
    {
     "name": "stdout",
     "output_type": "stream",
     "text": [
      "disintegrate crush ring\n"
     ]
    }
   ],
   "source": [
    "class Laser:\n",
    "    def does(self):\n",
    "        return 'disintegrate'\n",
    "class Claw:\n",
    "    def does(self):\n",
    "        return 'crush'\n",
    "class Smartphone:\n",
    "    def does(self):\n",
    "        return 'ring'\n",
    "class Robot:\n",
    "    def __init__(self):\n",
    "        self.laser = Laser()\n",
    "        self.claw = Claw()\n",
    "        self.smartphone = Smartphone()\n",
    "    def does(self):\n",
    "        print(self.laser.does(),self.claw.does(),self.smartphone.does())\n",
    "        \n",
    "r2d2 = Robot()\n",
    "r2d2.does()"
   ]
  },
  {
   "cell_type": "code",
   "execution_count": null,
   "id": "1c4f9706",
   "metadata": {},
   "outputs": [],
   "source": []
  }
 ],
 "metadata": {
  "kernelspec": {
   "display_name": "Python 3 (ipykernel)",
   "language": "python",
   "name": "python3"
  },
  "language_info": {
   "codemirror_mode": {
    "name": "ipython",
    "version": 3
   },
   "file_extension": ".py",
   "mimetype": "text/x-python",
   "name": "python",
   "nbconvert_exporter": "python",
   "pygments_lexer": "ipython3",
   "version": "3.9.7"
  }
 },
 "nbformat": 4,
 "nbformat_minor": 5
}
