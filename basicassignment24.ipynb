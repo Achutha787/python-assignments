{
 "cells": [
  {
   "cell_type": "code",
   "execution_count": null,
   "id": "f47cc48a",
   "metadata": {},
   "outputs": [],
   "source": [
    "#1)\n",
    "#def statement is used to create a normal function.\n",
    "#lamba expressions are used to create Anonymous functions,which can be assigned to a variable and can be called using\n",
    "#the variable later in function.Lambda's body is a single expression and not a block of statements like def statement. \n",
    "#The lambda expression's body is similar to what we'd put in a def body's return statement. \n",
    "#We simply type the result as an expression instead of explicitly returning it."
   ]
  },
  {
   "cell_type": "code",
   "execution_count": null,
   "id": "6a356c38",
   "metadata": {},
   "outputs": [],
   "source": [
    "#2)\n",
    "#Can be used to create Nameless/Anonymous functions inside some complex functions if we are planning to use it only once.\n",
    "#Moderate to small functions can be created in a single line\n",
    "#Fuctions created using lambda expressions can be assigned to a variable and can be used by simply calling the variable"
   ]
  },
  {
   "cell_type": "code",
   "execution_count": null,
   "id": "42f9fe56",
   "metadata": {},
   "outputs": [],
   "source": [
    "#3)\n",
    "#map(): The map() function is of higher-order type.This function takes another function as a parameter along with a\n",
    "# sequence of iterables and returns an output after applying the function to each iterable present in the sequence.\n",
    "#filter(): The filter() function is used to create an output list consisting of values for which the function returns true.\n",
    "#reduce(): The reduce() function, applies a given function to the iterables and returns a single value"
   ]
  },
  {
   "cell_type": "code",
   "execution_count": 2,
   "id": "5b0a4d5b",
   "metadata": {},
   "outputs": [
    {
     "name": "stdout",
     "output_type": "stream",
     "text": [
      "Map -> [8, 196, 134, 178]\n",
      "Filter -> [9, 11]\n",
      "Reduce -> 26\n"
     ]
    }
   ],
   "source": [
    "#3)\n",
    "from functools import reduce\n",
    "print('Map ->',list(map(lambda x:x+x, [4,98,67,89])))\n",
    "print('Filter ->',list(filter(lambda x:x%2 !=0, [8,9,10,11])))\n",
    "print('Reduce ->',reduce(lambda x,y:x+y, [6,5,3,9,2,1]))"
   ]
  },
  {
   "cell_type": "code",
   "execution_count": 3,
   "id": "0a26ab63",
   "metadata": {},
   "outputs": [],
   "source": [
    "#4)\n",
    "#Function annotations provide a way of associating various parts of a function with arbitrary python expressions at compile time.\n",
    "#Annotations of simple parameters   def func(x: expression, y: expression = 20):\n",
    "#Whereas the annotations for excess parameters are as − def func (*args: expression, **kwargs: expression)"
   ]
  },
  {
   "cell_type": "code",
   "execution_count": null,
   "id": "15cf64b7",
   "metadata": {},
   "outputs": [],
   "source": [
    "#5)\n",
    "#A recursive function is a function that calls itself during its execution.\n",
    "# The process may repeat several times, outputting the result and the end of each iteration."
   ]
  },
  {
   "cell_type": "code",
   "execution_count": 4,
   "id": "62626ccc",
   "metadata": {},
   "outputs": [],
   "source": [
    "#6)\n",
    "# Always use a docstring to describe the usage of function\n",
    "# avoid using or do  limited use of global variables\n",
    "# Proper Identation  is necessary to increase the code readability\n",
    "# try to follow a naming convention for function names and stick with the same convention throughout program code.\n",
    "# Avoid using digits while choosing a variable name\n",
    "# try to use a name for the function which conveys the purpose of the function\n",
    "# Constant should be represented in allcaps (ex:CONSTANT)."
   ]
  },
  {
   "cell_type": "code",
   "execution_count": null,
   "id": "2fe0ceb9",
   "metadata": {},
   "outputs": [],
   "source": [
    "#7)\n",
    "#Some of the ways in which a function can communicate with the calling function is:\n",
    "#print\n",
    "#return\n",
    "#yield"
   ]
  }
 ],
 "metadata": {
  "kernelspec": {
   "display_name": "Python 3 (ipykernel)",
   "language": "python",
   "name": "python3"
  },
  "language_info": {
   "codemirror_mode": {
    "name": "ipython",
    "version": 3
   },
   "file_extension": ".py",
   "mimetype": "text/x-python",
   "name": "python",
   "nbconvert_exporter": "python",
   "pygments_lexer": "ipython3",
   "version": "3.9.7"
  }
 },
 "nbformat": 4,
 "nbformat_minor": 5
}
