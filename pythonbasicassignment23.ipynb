{
 "cells": [
  {
   "cell_type": "code",
   "execution_count": 5,
   "id": "9582b9eb",
   "metadata": {},
   "outputs": [],
   "source": [
    "#1)\n",
    "def func(a,b=6,c=8):\n",
    "    print(a,b,c)"
   ]
  },
  {
   "cell_type": "code",
   "execution_count": 8,
   "id": "dd79b348",
   "metadata": {},
   "outputs": [
    {
     "name": "stdout",
     "output_type": "stream",
     "text": [
      "1 2 8\n"
     ]
    }
   ],
   "source": [
    "func(1,2)"
   ]
  },
  {
   "cell_type": "code",
   "execution_count": null,
   "id": "097fc157",
   "metadata": {},
   "outputs": [],
   "source": [
    "#here,there are 3 variables inside function.whichever value already assigned in default function will be replaced if u give \n",
    "#another value.if value not given, it will take the same value as given in default function."
   ]
  },
  {
   "cell_type": "code",
   "execution_count": 9,
   "id": "94c93821",
   "metadata": {},
   "outputs": [],
   "source": [
    "#2)\n",
    "def func1(a,b,c=5):\n",
    "    print(a,b,c)"
   ]
  },
  {
   "cell_type": "code",
   "execution_count": 10,
   "id": "39b7ccc8",
   "metadata": {},
   "outputs": [
    {
     "name": "stdout",
     "output_type": "stream",
     "text": [
      "1 2 3\n"
     ]
    }
   ],
   "source": [
    "func1(1,c=3,b=2)"
   ]
  },
  {
   "cell_type": "code",
   "execution_count": null,
   "id": "9fcd25ca",
   "metadata": {},
   "outputs": [],
   "source": [
    "#here,there are 3 variables inside function.whichever value already assigned in default function,it will be replaced if u give \n",
    "#another value(c =5 is replaced with c= 3 here)\n",
    "#if value not given, it will take the value assigned in function(here, a and b do not have any value in default function..\n",
    "#but,while calling the function b=2 and a=1 is assigned ) the order of arguments is also ignored by the python interpreter"
   ]
  },
  {
   "cell_type": "code",
   "execution_count": 11,
   "id": "ed9a17ee",
   "metadata": {},
   "outputs": [],
   "source": [
    "#3)\n",
    "def func2(a,*pargs):\n",
    "    print(a,pargs)"
   ]
  },
  {
   "cell_type": "code",
   "execution_count": 12,
   "id": "585e45d2",
   "metadata": {},
   "outputs": [
    {
     "name": "stdout",
     "output_type": "stream",
     "text": [
      "1 (2, 3)\n"
     ]
    }
   ],
   "source": [
    "func2(1,2,3)"
   ]
  },
  {
   "cell_type": "code",
   "execution_count": null,
   "id": "0e6948ab",
   "metadata": {},
   "outputs": [],
   "source": [
    "#*pargs stands for variable length arguments. this format is used when we are not sure about the no of arguments \n",
    "#to be passed to a function. All the values under this argument will be stored in a tuple."
   ]
  },
  {
   "cell_type": "code",
   "execution_count": 14,
   "id": "7cd3e1b8",
   "metadata": {},
   "outputs": [],
   "source": [
    "#4)\n",
    "def func3(b,**kargs):\n",
    "    print(b,kargs)"
   ]
  },
  {
   "cell_type": "code",
   "execution_count": 15,
   "id": "b5936590",
   "metadata": {},
   "outputs": [
    {
     "name": "stdout",
     "output_type": "stream",
     "text": [
      "2 {'a': 1, 'c': 3}\n"
     ]
    }
   ],
   "source": [
    "func3(a=1,b=2,c=3)"
   ]
  },
  {
   "cell_type": "code",
   "execution_count": null,
   "id": "64ecf8b8",
   "metadata": {},
   "outputs": [],
   "source": [
    "#  **args stands for variable length keyword arguments. this format is used when we want pass key value pairs as input to a \n",
    "# function.All these key value pairs will be stored in a dictionary"
   ]
  },
  {
   "cell_type": "code",
   "execution_count": 17,
   "id": "1bdd6cd7",
   "metadata": {},
   "outputs": [],
   "source": [
    "#5)\n",
    "def func4(a,b,c=8,d=5):\n",
    "    print(a,b,c,d)"
   ]
  },
  {
   "cell_type": "code",
   "execution_count": 22,
   "id": "afdad59a",
   "metadata": {},
   "outputs": [
    {
     "name": "stdout",
     "output_type": "stream",
     "text": [
      "1 5 6 7\n"
     ]
    }
   ],
   "source": [
    "func4(1,*(5,6,7))"
   ]
  },
  {
   "cell_type": "code",
   "execution_count": 23,
   "id": "ec7dd24a",
   "metadata": {},
   "outputs": [],
   "source": [
    "# The output of the above is 1 5 6 5. This reason for this function not throwing an error is because, this function expects 4\n",
    "#arguments.the value for a is provided explicitly whereas for arguments b and c, the function will expand the *(5,6) and consider\n",
    "# the value of b as 5 and value of c as 6. since the default value of d is provided in function declaration d value will be 5. \n",
    "# However it is recommended to use the feature of positional arguments at the end"
   ]
  },
  {
   "cell_type": "code",
   "execution_count": 30,
   "id": "8004a0fd",
   "metadata": {},
   "outputs": [],
   "source": [
    "#6)\n",
    "def func5(a, b, c):a = 2; b[0] = \"x\" ; c['a']= 'y'\n",
    "l=1; m=[1];n= {'a':0}\n",
    "func5(l,m,n)"
   ]
  },
  {
   "cell_type": "code",
   "execution_count": 34,
   "id": "9cf7ca20",
   "metadata": {},
   "outputs": [],
   "source": [
    "func5(l,m,n)"
   ]
  },
  {
   "cell_type": "code",
   "execution_count": 35,
   "id": "b1cd3c45",
   "metadata": {},
   "outputs": [
    {
     "data": {
      "text/plain": [
       "(1, ['x'], {'a': 'y'})"
      ]
     },
     "execution_count": 35,
     "metadata": {},
     "output_type": "execute_result"
    }
   ],
   "source": [
    "l,m,n"
   ]
  },
  {
   "cell_type": "code",
   "execution_count": null,
   "id": "f7446c28",
   "metadata": {},
   "outputs": [],
   "source": [
    "#Eventhough Python gives importance to indentation. its provides a facility to declare an entire function in one single line. \n",
    "#where statements in a function body are sepereated by ;\n",
    "# When l,m,n are provided as inputs to the function. its modifies the values of l,m,n and sets the value of l=2 ,m=['x'] \n",
    "# and n={'a':'y'}"
   ]
  }
 ],
 "metadata": {
  "kernelspec": {
   "display_name": "Python 3 (ipykernel)",
   "language": "python",
   "name": "python3"
  },
  "language_info": {
   "codemirror_mode": {
    "name": "ipython",
    "version": 3
   },
   "file_extension": ".py",
   "mimetype": "text/x-python",
   "name": "python",
   "nbconvert_exporter": "python",
   "pygments_lexer": "ipython3",
   "version": "3.9.7"
  }
 },
 "nbformat": 4,
 "nbformat_minor": 5
}
