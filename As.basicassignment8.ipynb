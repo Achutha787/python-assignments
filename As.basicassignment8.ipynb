{
 "cells": [
  {
   "cell_type": "markdown",
   "id": "722fff39",
   "metadata": {},
   "source": [
    "#1)Is the Python Standard Library included with PyInputPlus?"
   ]
  },
  {
   "cell_type": "code",
   "execution_count": null,
   "id": "6a51da50",
   "metadata": {},
   "outputs": [],
   "source": [
    "#Ans: No, PyInputPlus is not a part of Python Standard Library, it needs to be installed explicitly using the command \n",
    "## !pip install PyInputPlus"
   ]
  },
  {
   "cell_type": "markdown",
   "id": "8c3d53dc",
   "metadata": {},
   "source": [
    "2. Why is PyInputPlus commonly imported with import pyinputplus as pypi?"
   ]
  },
  {
   "cell_type": "code",
   "execution_count": 2,
   "id": "98a648fd",
   "metadata": {},
   "outputs": [],
   "source": [
    "#pypi is an alias name (short name) for pyinputplus module.So,the shorter name can be used when calling the modules functions"
   ]
  },
  {
   "cell_type": "markdown",
   "id": "30b245d8",
   "metadata": {},
   "source": [
    "3. How do you distinguish between inputInt() and inputFloat()?"
   ]
  },
  {
   "cell_type": "code",
   "execution_count": 3,
   "id": "7ba2eaee",
   "metadata": {},
   "outputs": [],
   "source": [
    "#inputint() will take only integers as an input and it takes 4 parameters(min,max,less than and greater than).\n",
    "#whereas inputfloat() will take floatingpoint numeric vale as an input.It also has 4 parameters(min,max,less than,greater than)"
   ]
  },
  {
   "cell_type": "markdown",
   "id": "abd0fb5e",
   "metadata": {},
   "source": [
    "4. Using PyInputPlus, how do you ensure that the user enters a whole number between 0 and 99?"
   ]
  },
  {
   "cell_type": "code",
   "execution_count": 5,
   "id": "f3b70353",
   "metadata": {},
   "outputs": [
    {
     "data": {
      "text/plain": [
       "'PyInputPlus module provides a function called as inputInt() which only returns only integer values. \\ninorder to restrict the input between 0 and 99, it will use parameters like min & max to ensure\\nthat user enters the values between the defined range only.'"
      ]
     },
     "execution_count": 5,
     "metadata": {},
     "output_type": "execute_result"
    }
   ],
   "source": [
    "'''PyInputPlus module provides a function called as inputInt() which only returns only integer values. \n",
    "inorder to restrict the input between 0 and 99, it will use parameters like min & max to ensure\n",
    "that user enters the values between the defined range only.'''"
   ]
  },
  {
   "cell_type": "code",
   "execution_count": 4,
   "id": "f3bfd681",
   "metadata": {},
   "outputs": [
    {
     "name": "stdout",
     "output_type": "stream",
     "text": [
      "Enter a number: 909\n",
      "Number must be at maximum 100.\n",
      "Enter a number: 78\n",
      "78\n"
     ]
    }
   ],
   "source": [
    "import pyinputplus as pyip\n",
    "wholenumber = pyip.inputInt(prompt='Enter a number: ', min=0, max=100)\n",
    "print(wholenumber)"
   ]
  },
  {
   "cell_type": "markdown",
   "id": "ab9413ed",
   "metadata": {},
   "source": [
    "5. What is transferred to the keyword arguments allowRegexes and blockRegexes?"
   ]
  },
  {
   "cell_type": "code",
   "execution_count": null,
   "id": "06590ab4",
   "metadata": {},
   "outputs": [],
   "source": [
    "'''we can use allowRegexes and blockRegexes keyword arguments to take list of regular expression strings to\n",
    "determine what the pyinputplus function will reject or accept valid input.'''"
   ]
  },
  {
   "cell_type": "markdown",
   "id": "89254263",
   "metadata": {},
   "source": [
    "6. If a blank input is entered three times, what does inputStr(limit=3) do?"
   ]
  },
  {
   "cell_type": "code",
   "execution_count": null,
   "id": "c48be7bb",
   "metadata": {},
   "outputs": [],
   "source": [
    "'''The statement inputStr(limit=3) will throw two exceptions ValidationException and RetryLimitException. \n",
    "The first exception is thrown because blank values are not allowed by inputStr() function by default.\n",
    "it we want to consider blank values as valid input, we have to set blank=True.\n",
    "The second exception is occured because we have reached the max limit we have specified by using limit parameter.\n",
    "inorder to avoid this exception we can use default parameter to return a default value when max limit is reached.'''"
   ]
  },
  {
   "cell_type": "markdown",
   "id": "a1cfc5d6",
   "metadata": {},
   "source": [
    "7. If blank input is entered three times, what does inputStr(limit=3, default='hello') do?"
   ]
  },
  {
   "cell_type": "code",
   "execution_count": null,
   "id": "5fed41e9",
   "metadata": {},
   "outputs": [],
   "source": [
    "'''Since the default parameter is set to hello. after blank input is entered three times instead of raising RetryLimitException\n",
    "exception. the function will return hello as response to the calling function'''"
   ]
  },
  {
   "cell_type": "code",
   "execution_count": null,
   "id": "78a3d2ac",
   "metadata": {},
   "outputs": [],
   "source": []
  }
 ],
 "metadata": {
  "kernelspec": {
   "display_name": "Python 3 (ipykernel)",
   "language": "python",
   "name": "python3"
  },
  "language_info": {
   "codemirror_mode": {
    "name": "ipython",
    "version": 3
   },
   "file_extension": ".py",
   "mimetype": "text/x-python",
   "name": "python",
   "nbconvert_exporter": "python",
   "pygments_lexer": "ipython3",
   "version": "3.9.7"
  }
 },
 "nbformat": 4,
 "nbformat_minor": 5
}
