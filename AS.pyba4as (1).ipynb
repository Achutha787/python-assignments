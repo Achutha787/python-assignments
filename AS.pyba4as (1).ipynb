{
 "cells": [
  {
   "cell_type": "code",
   "execution_count": 2,
   "id": "47a4ea74",
   "metadata": {},
   "outputs": [],
   "source": [
    "#1)[] is an empty list\n"
   ]
  },
  {
   "cell_type": "code",
   "execution_count": 5,
   "id": "ae7f1690",
   "metadata": {},
   "outputs": [
    {
     "data": {
      "text/plain": [
       "[2, 4, 'hello', 8, 10]"
      ]
     },
     "execution_count": 5,
     "metadata": {},
     "output_type": "execute_result"
    }
   ],
   "source": [
    "#2) To Assign \"hello\" As third value\n",
    "spam = [2,4,6,8,10]\n",
    "spam[2]=\"hello\"\n",
    "spam\n"
   ]
  },
  {
   "cell_type": "code",
   "execution_count": 6,
   "id": "91c102cc",
   "metadata": {},
   "outputs": [
    {
     "data": {
      "text/plain": [
       "'d'"
      ]
     },
     "execution_count": 6,
     "metadata": {},
     "output_type": "execute_result"
    }
   ],
   "source": [
    "#3)\n",
    "spam = [\"a\",\"b\",\"c\",\"d\"]\n",
    "spam[int(int(\"3\"*2)/11)]"
   ]
  },
  {
   "cell_type": "code",
   "execution_count": 7,
   "id": "03f53ef6",
   "metadata": {},
   "outputs": [
    {
     "data": {
      "text/plain": [
       "'d'"
      ]
     },
     "execution_count": 7,
     "metadata": {},
     "output_type": "execute_result"
    }
   ],
   "source": [
    "#4)\n",
    "spam = [\"a\",\"b\",\"c\",\"d\"]\n",
    "spam[-1]"
   ]
  },
  {
   "cell_type": "code",
   "execution_count": 8,
   "id": "5ecd9b06",
   "metadata": {},
   "outputs": [
    {
     "data": {
      "text/plain": [
       "['a', 'b']"
      ]
     },
     "execution_count": 8,
     "metadata": {},
     "output_type": "execute_result"
    }
   ],
   "source": [
    "#5)\n",
    "spam[:2]"
   ]
  },
  {
   "cell_type": "code",
   "execution_count": 9,
   "id": "c8c5434c",
   "metadata": {},
   "outputs": [
    {
     "data": {
      "text/plain": [
       "1"
      ]
     },
     "execution_count": 9,
     "metadata": {},
     "output_type": "execute_result"
    }
   ],
   "source": [
    "#6)\n",
    "Bacon = [3.14,\"cat\",11,\"cat\",True]\n",
    "Bacon.index(\"cat\")\n"
   ]
  },
  {
   "cell_type": "code",
   "execution_count": 10,
   "id": "4d0a2a1b",
   "metadata": {},
   "outputs": [
    {
     "data": {
      "text/plain": [
       "[3.14, 'cat', 11, 'cat', True, 99]"
      ]
     },
     "execution_count": 10,
     "metadata": {},
     "output_type": "execute_result"
    }
   ],
   "source": [
    "#7)\n",
    "Bacon = [3.14,\"cat\",11,\"cat\",True]\n",
    "Bacon.append(99)\n",
    "Bacon"
   ]
  },
  {
   "cell_type": "code",
   "execution_count": 11,
   "id": "5b691a35",
   "metadata": {},
   "outputs": [
    {
     "data": {
      "text/plain": [
       "[3.14, 11, 'cat', True, 99]"
      ]
     },
     "execution_count": 11,
     "metadata": {},
     "output_type": "execute_result"
    }
   ],
   "source": [
    "#8)\n",
    "Bacon.remove(\"cat\")\n",
    "Bacon\n"
   ]
  },
  {
   "cell_type": "code",
   "execution_count": 39,
   "id": "ee8e569a",
   "metadata": {},
   "outputs": [
    {
     "data": {
      "text/plain": [
       "[1, 2, 3, 4, 67, 90, 89, 89]"
      ]
     },
     "execution_count": 39,
     "metadata": {},
     "output_type": "execute_result"
    }
   ],
   "source": [
    "#9)List concatatenantion operator is addition.\n",
    "#)List Repliction operatores are multiplication\n",
    "list6 = [1,2,3,4]\n",
    "list1=[67,90,89,89]\n",
    "list6 +list1 \n",
    "# # list concataenation"
   ]
  },
  {
   "cell_type": "code",
   "execution_count": 40,
   "id": "51b6bc6e",
   "metadata": {},
   "outputs": [
    {
     "data": {
      "text/plain": [
       "[1, 2, 3, 4, 1, 2, 3, 4, 1, 2, 3, 4]"
      ]
     },
     "execution_count": 40,
     "metadata": {},
     "output_type": "execute_result"
    }
   ],
   "source": [
    "#9)List  Replicaation\n",
    "list6*3\n"
   ]
  },
  {
   "cell_type": "code",
   "execution_count": 38,
   "id": "8d818ea0",
   "metadata": {},
   "outputs": [
    {
     "data": {
      "text/plain": [
       "[2, 8, 12, 9, 10]"
      ]
     },
     "execution_count": 38,
     "metadata": {},
     "output_type": "execute_result"
    }
   ],
   "source": [
    "list5=[2,8,9,10]\n",
    "list5.insert(2,12)\n",
    "list5"
   ]
  },
  {
   "cell_type": "code",
   "execution_count": 15,
   "id": "add9b611",
   "metadata": {},
   "outputs": [],
   "source": [
    "#10)List.append will appends the item at the end of the list\n",
    "#)list.insert will inserts the item before the specified index number"
   ]
  },
  {
   "cell_type": "code",
   "execution_count": 17,
   "id": "476b1884",
   "metadata": {},
   "outputs": [],
   "source": [
    "#11)List.remove() removes the specific item mentioned in the bracket\n",
    "#List.clear() will remove all the items in the list"
   ]
  },
  {
   "cell_type": "code",
   "execution_count": 45,
   "id": "cab40da0",
   "metadata": {},
   "outputs": [],
   "source": [
    "#12)List Values and String Values are identical where the elements of string are separated by \n",
    "#comma,except the strings are represented in single or double quotes"
   ]
  },
  {
   "cell_type": "code",
   "execution_count": null,
   "id": "b0f7d92a",
   "metadata": {},
   "outputs": [],
   "source": [
    "#13)List[]elements in the list are mutable\n",
    "#tuple()elements in the tuples are immutable\n"
   ]
  },
  {
   "cell_type": "code",
   "execution_count": null,
   "id": "872a695a",
   "metadata": {},
   "outputs": [],
   "source": [
    "#14) t1 = (42,)"
   ]
  },
  {
   "cell_type": "code",
   "execution_count": 18,
   "id": "4c690597",
   "metadata": {},
   "outputs": [
    {
     "name": "stdout",
     "output_type": "stream",
     "text": [
      "(23, 89, 90)\n",
      "<class 'tuple'>\n"
     ]
    }
   ],
   "source": [
    "#15)converting list into a tuple\n",
    "samplelist  = [23,89,90]\n",
    "tuple1 = tuple(samplelist)\n",
    "print(tuple1)\n",
    "print(type(tuple1))"
   ]
  },
  {
   "cell_type": "code",
   "execution_count": 46,
   "id": "ace873d2",
   "metadata": {},
   "outputs": [
    {
     "ename": "TypeError",
     "evalue": "'list' object is not callable",
     "output_type": "error",
     "traceback": [
      "\u001b[1;31m---------------------------------------------------------------------------\u001b[0m",
      "\u001b[1;31mTypeError\u001b[0m                                 Traceback (most recent call last)",
      "\u001b[1;32m<ipython-input-46-d321576538c3>\u001b[0m in \u001b[0;36m<module>\u001b[1;34m\u001b[0m\n\u001b[0;32m      1\u001b[0m \u001b[1;31m#16)converting a tuple into a list\u001b[0m\u001b[1;33m\u001b[0m\u001b[1;33m\u001b[0m\u001b[1;33m\u001b[0m\u001b[0m\n\u001b[0;32m      2\u001b[0m \u001b[0mX\u001b[0m \u001b[1;33m=\u001b[0m \u001b[1;33m(\u001b[0m\u001b[1;36m556\u001b[0m\u001b[1;33m,\u001b[0m\u001b[1;36m90\u001b[0m\u001b[1;33m,\u001b[0m\u001b[1;36m80\u001b[0m\u001b[1;33m)\u001b[0m\u001b[1;33m\u001b[0m\u001b[1;33m\u001b[0m\u001b[0m\n\u001b[1;32m----> 3\u001b[1;33m \u001b[0mY\u001b[0m \u001b[1;33m=\u001b[0m \u001b[0mlist\u001b[0m \u001b[1;33m(\u001b[0m\u001b[0mX\u001b[0m\u001b[1;33m)\u001b[0m\u001b[1;33m\u001b[0m\u001b[1;33m\u001b[0m\u001b[0m\n\u001b[0m\u001b[0;32m      4\u001b[0m \u001b[0mprint\u001b[0m\u001b[1;33m(\u001b[0m\u001b[0mX\u001b[0m\u001b[1;33m)\u001b[0m\u001b[1;33m\u001b[0m\u001b[1;33m\u001b[0m\u001b[0m\n",
      "\u001b[1;31mTypeError\u001b[0m: 'list' object is not callable"
     ]
    }
   ],
   "source": [
    "#15)converting a tuple into a list\n",
    "X = (556,90,80)\n",
    "Y = list (X)\n",
    "print(X)"
   ]
  },
  {
   "cell_type": "code",
   "execution_count": 1,
   "id": "45b9c665",
   "metadata": {},
   "outputs": [],
   "source": [
    "#16)variables will contain  references to list values rather than list values themselves.But,for\n",
    "#strings and integer values,variables contain string or integer value."
   ]
  },
  {
   "cell_type": "code",
   "execution_count": 3,
   "id": "abaa9a53",
   "metadata": {},
   "outputs": [],
   "source": [
    "#17)\n",
    "#)A shallow copy constructs a new compound object and then (to the extent possible) inserts\n",
    "#references into it to the objects found in the original.\n",
    "#A deep copy constructs a new compound object and then, recursively, inserts copies\n",
    "#into it of the objects found in the original."
   ]
  },
  {
   "cell_type": "code",
   "execution_count": null,
   "id": "2969cde0",
   "metadata": {},
   "outputs": [],
   "source": []
  }
 ],
 "metadata": {
  "kernelspec": {
   "display_name": "Python 3",
   "language": "python",
   "name": "python3"
  },
  "language_info": {
   "codemirror_mode": {
    "name": "ipython",
    "version": 3
   },
   "file_extension": ".py",
   "mimetype": "text/x-python",
   "name": "python",
   "nbconvert_exporter": "python",
   "pygments_lexer": "ipython3",
   "version": "3.8.8"
  }
 },
 "nbformat": 4,
 "nbformat_minor": 5
}
