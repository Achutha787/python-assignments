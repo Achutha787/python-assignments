{
 "cells": [
  {
   "cell_type": "code",
   "execution_count": 1,
   "id": "7fc721c8",
   "metadata": {},
   "outputs": [
    {
     "name": "stdout",
     "output_type": "stream",
     "text": [
      "<class 'dict'>\n"
     ]
    }
   ],
   "source": [
    "#1)Empty dictionary\n",
    "dict = {}\n",
    "print(type(dict))"
   ]
  },
  {
   "cell_type": "code",
   "execution_count": 2,
   "id": "7e3b2b7b",
   "metadata": {},
   "outputs": [
    {
     "data": {
      "text/plain": [
       "dict_values(['42'])"
      ]
     },
     "execution_count": 2,
     "metadata": {},
     "output_type": "execute_result"
    }
   ],
   "source": [
    "#2)\n",
    "dict1 = {\"Foo\":\"42\"}\n",
    "dict1.values()"
   ]
  },
  {
   "cell_type": "code",
   "execution_count": 3,
   "id": "07367a63",
   "metadata": {},
   "outputs": [],
   "source": [
    "#3)Dictionary  is list of elements always with key and values.All the elements would be in \n",
    "# pairs only.Dictionary is enclosed with the flower brackets only.{}\n",
    "# list can hold all types of elements.It is enclosed with square brackets[]"
   ]
  },
  {
   "cell_type": "code",
   "execution_count": 4,
   "id": "a5c37f40",
   "metadata": {},
   "outputs": [
    {
     "ename": "KeyError",
     "evalue": "'foo'",
     "output_type": "error",
     "traceback": [
      "\u001b[1;31m---------------------------------------------------------------------------\u001b[0m",
      "\u001b[1;31mKeyError\u001b[0m                                  Traceback (most recent call last)",
      "\u001b[1;32m<ipython-input-4-a9b5d2cecf49>\u001b[0m in \u001b[0;36m<module>\u001b[1;34m\u001b[0m\n\u001b[0;32m      1\u001b[0m \u001b[1;31m#4)\u001b[0m\u001b[1;33m\u001b[0m\u001b[1;33m\u001b[0m\u001b[1;33m\u001b[0m\u001b[0m\n\u001b[0;32m      2\u001b[0m \u001b[0mspam\u001b[0m \u001b[1;33m=\u001b[0m \u001b[1;33m{\u001b[0m\u001b[1;34m\"bar\"\u001b[0m\u001b[1;33m:\u001b[0m\u001b[1;36m100\u001b[0m\u001b[1;33m}\u001b[0m\u001b[1;33m\u001b[0m\u001b[1;33m\u001b[0m\u001b[0m\n\u001b[1;32m----> 3\u001b[1;33m \u001b[0mspam\u001b[0m\u001b[1;33m[\u001b[0m\u001b[1;34m\"foo\"\u001b[0m\u001b[1;33m]\u001b[0m\u001b[1;33m\u001b[0m\u001b[1;33m\u001b[0m\u001b[0m\n\u001b[0m",
      "\u001b[1;31mKeyError\u001b[0m: 'foo'"
     ]
    }
   ],
   "source": [
    "#4)\n",
    "spam = {\"bar\":100}\n",
    "spam[\"foo\"]\n",
    "#keyerror will come,since the item is not there"
   ]
  },
  {
   "cell_type": "code",
   "execution_count": 10,
   "id": "aef4e427",
   "metadata": {},
   "outputs": [
    {
     "data": {
      "text/plain": [
       "dict_values(['kitten'])"
      ]
     },
     "execution_count": 10,
     "metadata": {},
     "output_type": "execute_result"
    }
   ],
   "source": [
    "#5)\n",
    "spam = {\"cat\":\"kitten\"}\n",
    "spam.values()\n",
    "#\"cat\"in spam checks whether there is 'cat' key in a dictionary.while \"cat\" in spam values will\n",
    "#check for value of \"cat\" for one of the keys in spam"
   ]
  },
  {
   "cell_type": "code",
   "execution_count": 6,
   "id": "53a92248",
   "metadata": {},
   "outputs": [
    {
     "data": {
      "text/plain": [
       "dict_keys(['cat'])"
      ]
     },
     "execution_count": 6,
     "metadata": {},
     "output_type": "execute_result"
    }
   ],
   "source": [
    "#6)\n",
    "spam = {\"cat\":\"kitten\"}\n",
    "#Both are same.spam.keys() will give same value of the key which is same as \"cat\" in spam.\n",
    "spam.keys()"
   ]
  },
  {
   "cell_type": "code",
   "execution_count": 7,
   "id": "324bf509",
   "metadata": {},
   "outputs": [
    {
     "data": {
      "text/plain": [
       "'black'"
      ]
     },
     "execution_count": 7,
     "metadata": {},
     "output_type": "execute_result"
    }
   ],
   "source": [
    "#7)\n",
    "spam.setdefault(\"color\",\"black\")"
   ]
  },
  {
   "cell_type": "code",
   "execution_count": null,
   "id": "ab2eac95",
   "metadata": {},
   "outputs": [],
   "source": [
    "#8)\n",
    "pprint.pprint() is used to \"pretty print\" the dictionary values"
   ]
  },
  {
   "cell_type": "code",
   "execution_count": null,
   "id": "4b2d0733",
   "metadata": {},
   "outputs": [],
   "source": []
  }
 ],
 "metadata": {
  "kernelspec": {
   "display_name": "Python 3",
   "language": "python",
   "name": "python3"
  },
  "language_info": {
   "codemirror_mode": {
    "name": "ipython",
    "version": 3
   },
   "file_extension": ".py",
   "mimetype": "text/x-python",
   "name": "python",
   "nbconvert_exporter": "python",
   "pygments_lexer": "ipython3",
   "version": "3.8.8"
  }
 },
 "nbformat": 4,
 "nbformat_minor": 5
}
