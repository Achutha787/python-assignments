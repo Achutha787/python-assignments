{
 "cells": [
  {
   "cell_type": "markdown",
   "id": "4788497b",
   "metadata": {},
   "source": [
    "#1)IN WHAT MODES SHOULD THE PDFFILEREADER() AND PDFFILEWITER() FILE OBJECTS  SHOULD BE OPENED?"
   ]
  },
  {
   "cell_type": "code",
   "execution_count": null,
   "id": "d098a835",
   "metadata": {},
   "outputs": [],
   "source": [
    "#PDFfile reader should be opened with rb-read binary mode whereas PDFFile writer should be opened with rw-write binary mode"
   ]
  },
  {
   "cell_type": "markdown",
   "id": "665c2665",
   "metadata": {},
   "source": [
    "#2)from PDFfILErEADER OBJECT,HOW DO YOU GET A PAGE OBJECTT FOR PAGE 5?"
   ]
  },
  {
   "cell_type": "markdown",
   "id": "e7550ecc",
   "metadata": {},
   "source": [
    "#PDFFILEREADER class produces a method called getpage(page_no.) to get the page object"
   ]
  },
  {
   "cell_type": "code",
   "execution_count": null,
   "id": "2477a134",
   "metadata": {},
   "outputs": [],
   "source": [
    "# Example Code:\n",
    "from PyPDF2 import PdfFileReader\n",
    "pdf_reader = PdfFileReader(file_path)\n",
    "for page in pdf_reader.getNumPages():\n",
    "    pdf_reader.getPage(page)"
   ]
  },
  {
   "cell_type": "markdown",
   "id": "9a508bba",
   "metadata": {},
   "source": [
    "#3)WHAT PDFFILEREADER() VARIABLE  STORES THE NUMBER OF PAGES IN THE PDF DOCUMENT?"
   ]
  },
  {
   "cell_type": "code",
   "execution_count": null,
   "id": "d478f0d4",
   "metadata": {},
   "outputs": [],
   "source": [
    "#getNumpages() method of class PDFFILEREADER stores the number of pages in the document"
   ]
  },
  {
   "cell_type": "code",
   "execution_count": null,
   "id": "6aa53141",
   "metadata": {},
   "outputs": [],
   "source": [
    "#Example Code:\n",
    "from PyPDF2 import PdfFileReader\n",
    "pdf_reader = PdfFileReader(file_path)\n",
    "print(pdf_reader.getNumPages()) # Prints the no of pages in a input document"
   ]
  },
  {
   "cell_type": "markdown",
   "id": "4cd72607",
   "metadata": {},
   "source": [
    "#4)IF THE PDFFILE READER OBJECT IS ENCRYPTED WITH THE PASSWORD SWORDFISH,WHAT MUST YOU DO BEFORE YOU OBTAIN PAGE OBJECTS FROM IT?OO"
   ]
  },
  {
   "cell_type": "code",
   "execution_count": null,
   "id": "caae040d",
   "metadata": {},
   "outputs": [],
   "source": [
    "#If a PdfFileReader object’s PDF is encrypted with the password swordfish and you're not aware of it. first read the Pdf \n",
    "#using the PdfFileReader Class. PdfFileReader class provides a attribute called isEncrypted to check whether a pdf is \n",
    "#encrypted or not. the method returns true if a pdf is encrypted and vice versa.\n",
    "#if pdf is encrypted use the decrypt() method provided by PdfFileReader class first then try to read the contents/pages\n",
    "#of the pdf, else PyPDF2 will raise the following error PyPDF2.utils.PdfReadError: file has not been decrypted"
   ]
  },
  {
   "cell_type": "code",
   "execution_count": null,
   "id": "ada49907",
   "metadata": {},
   "outputs": [],
   "source": [
    "#Example Code:\n",
    "from PyPDF2 import PdfFileReader\n",
    "pdf_reader = PdfFileReader(file_path)\n",
    "if pdf_reader.isEncrypted: # to check whether the pdf is encrypted or not\n",
    "    pdf_reader.decrypt(\"swordfish\")\n",
    "for page in pdf_reader.pages:\n",
    "    print(page.extractText()) # to print the text data of a page from pdf"
   ]
  },
  {
   "cell_type": "markdown",
   "id": "01e4b557",
   "metadata": {},
   "source": [
    "#5)WHAT METHODS DO YOU USE TO ROTATE THE PAGE?"
   ]
  },
  {
   "cell_type": "code",
   "execution_count": null,
   "id": "bc011bc0",
   "metadata": {},
   "outputs": [],
   "source": [
    "PYPDF2 package will give you two methods to rotate the page\n",
    "rotateClockwise()\n",
    "rotateCounterClockwise()\n",
    "PYDF2 package will allow to rotate the page in increments of 90 degrees only.Othewise, it will give you an assertionerror"
   ]
  },
  {
   "cell_type": "markdown",
   "id": "4bd2d34b",
   "metadata": {},
   "source": [
    "#6)what is the difference between run object and paragrapgh object?"
   ]
  },
  {
   "cell_type": "code",
   "execution_count": null,
   "id": "96cac4e8",
   "metadata": {},
   "outputs": [],
   "source": [
    "The structure of a document is represented by three different data types in python-Docx. At the highest level, a Document \n",
    "object represents the entire document. The Document object contains a list of Paragraph objects for the paragraphs in\n",
    "the document. Each of these Paragraph objects contains a list of one or more Run objects.\n",
    "\n",
    "The text in a Word document is more than just a string. It has font, size, color, and other styling information associated\n",
    "with it. A style in Word is a collection of these attributes. A Run object is a contiguous run of text with the same style. \n",
    "A new Run object is needed whenever the text style changes."
   ]
  },
  {
   "cell_type": "markdown",
   "id": "5eef1137",
   "metadata": {},
   "source": [
    "#7)HOW DO YOU OBTAIN A LIST O PARAGRAPH OBJECTS FOR A DOCUMENT OBJECT THAT IS STORED IN A VARIABLE CALLED DOC?"
   ]
  },
  {
   "cell_type": "code",
   "execution_count": null,
   "id": "16f59736",
   "metadata": {},
   "outputs": [],
   "source": [
    "# Example Program\n",
    "from docx import Document\n",
    "doc = Document(\"sample_file.docx\") # Path of the Docx file\n",
    "print(doc.paragraphs) # Prints the list of Paragraph objects for a Document\n",
    "for paragraph in doc.paragraphs:\n",
    "    print(paragraph.text) # Prints the text in the paragraph"
   ]
  },
  {
   "cell_type": "markdown",
   "id": "49b4e0da",
   "metadata": {},
   "source": [
    "#8)WHAT TYPE OF OBJECT HAS BOLD,ITALIC,UNDERLINE,STRIKE AND OUTLINE VARIABLES?"
   ]
  },
  {
   "cell_type": "code",
   "execution_count": null,
   "id": "97991253",
   "metadata": {},
   "outputs": [],
   "source": [
    "Run object has bold, underline, italic, strike, and outline variables. The text in a Word document is more than just a string. \n",
    "It has font, size, color, and other styling information associated with it.\n",
    "\n",
    "A style in Word is a collection of these attributes. A Run object is a contiguous run of text with the same style. \n",
    "A new Run object is needed whenever the text style changes."
   ]
  },
  {
   "cell_type": "markdown",
   "id": "96a66992",
   "metadata": {},
   "source": [
    "#9)WHAT IS THE DIFFERENCE BETWEEN THE TRUE,FALSE AND NONE FOR THE BOLD  VARIABLE?"
   ]
  },
  {
   "cell_type": "code",
   "execution_count": null,
   "id": "2c963b51",
   "metadata": {},
   "outputs": [],
   "source": [
    "bold=True #style is set\n",
    "bold=False #style not set\n",
    "bold=None #style not applicable"
   ]
  },
  {
   "cell_type": "markdown",
   "id": "97624e0d",
   "metadata": {},
   "source": [
    "#10)HOW DO YOY CREATE A DOCUMENT OBJECT FOR NEW WORD DOCUMENT?"
   ]
  },
  {
   "cell_type": "code",
   "execution_count": 5,
   "id": "d4f378be",
   "metadata": {},
   "outputs": [],
   "source": [
    "# Example Program\n",
    "from docx import Document\n",
    "document = Document()\n",
    "document.add_paragraph(\"iNeuron Full Stack DataScience Course\")\n",
    "document.save('mydocument.docx')"
   ]
  },
  {
   "cell_type": "markdown",
   "id": "39d6fae0",
   "metadata": {},
   "source": [
    "#11)HOW DO YOU ADD A PARAGRAPH WITH THE TEXT \"HELLO,THERE!\" TO THE DOCUMENT OBJECT STORED IN A VARIABLE NAMED DOC?"
   ]
  },
  {
   "cell_type": "code",
   "execution_count": 8,
   "id": "8ac3b9a4",
   "metadata": {},
   "outputs": [],
   "source": [
    "# Example Program\n",
    "from docx import Document\n",
    "doc = Document()\n",
    "doc.add_paragraph('Hello, there!')\n",
    "doc.save('hello.docx')"
   ]
  },
  {
   "cell_type": "markdown",
   "id": "0348d5ea",
   "metadata": {},
   "source": [
    "#12)WHAT INTEGERS REPRESENTS THE LEVELS OF HEADINGS AVAILABLE IN WORD DOCUMENTS?"
   ]
  },
  {
   "cell_type": "markdown",
   "id": "bf3a4cc2",
   "metadata": {},
   "source": [
    "The levels for a heading in a word document can be specified by using the level attribute inside the add_heading method. There are a total of 5 levels statring for 0 t0 4. where level 0 makes a headline with the horizontal line below the text, whereas the heading level 1 is the main heading. Similarly, the other headings are sub-heading with their's font-sizes in decreasing order."
   ]
  }
 ],
 "metadata": {
  "kernelspec": {
   "display_name": "Python 3 (ipykernel)",
   "language": "python",
   "name": "python3"
  },
  "language_info": {
   "codemirror_mode": {
    "name": "ipython",
    "version": 3
   },
   "file_extension": ".py",
   "mimetype": "text/x-python",
   "name": "python",
   "nbconvert_exporter": "python",
   "pygments_lexer": "ipython3",
   "version": "3.9.7"
  }
 },
 "nbformat": 4,
 "nbformat_minor": 5
}
