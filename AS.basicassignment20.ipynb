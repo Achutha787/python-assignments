{
 "cells": [
  {
   "cell_type": "markdown",
   "id": "65be66ea",
   "metadata": {},
   "source": [
    "\n",
    "1. Set the variable test1 to the string 'This is a test of the emergency text system,' and save test1 to a file named test.txt."
   ]
  },
  {
   "cell_type": "code",
   "execution_count": 3,
   "id": "758d058d",
   "metadata": {},
   "outputs": [
    {
     "name": "stdout",
     "output_type": "stream",
     "text": [
      "This is a test of the emergency text system\n"
     ]
    }
   ],
   "source": [
    "test1=\"This is a test of the emergency text system\"\n",
    "print(test1)\n",
    "with open(\"test.txt\",\"w\") as file:\n",
    "    file.write(test1)\n",
    "    file.close()\n"
   ]
  },
  {
   "cell_type": "markdown",
   "id": "535c67d9",
   "metadata": {},
   "source": [
    "#reading the contents of text file"
   ]
  },
  {
   "cell_type": "code",
   "execution_count": 4,
   "id": "ab3bc50e",
   "metadata": {},
   "outputs": [
    {
     "name": "stdout",
     "output_type": "stream",
     "text": [
      "This is a test of the emergency text system\n"
     ]
    }
   ],
   "source": [
    "!type test.txt"
   ]
  },
  {
   "cell_type": "markdown",
   "id": "53b40051",
   "metadata": {},
   "source": [
    "2. Read the contents of the file test.txt into the variable test2. Is there a difference between test 1 and test 2?\n"
   ]
  },
  {
   "cell_type": "code",
   "execution_count": 5,
   "id": "553119c7",
   "metadata": {},
   "outputs": [
    {
     "name": "stdout",
     "output_type": "stream",
     "text": [
      "This is a test of the emergency text system\n",
      "True\n"
     ]
    }
   ],
   "source": [
    "with open(\"test.txt\",\"r\") as file:\n",
    "    test2=file.read()\n",
    "print(test1)\n",
    "print(test1 == test2)"
   ]
  },
  {
   "cell_type": "markdown",
   "id": "4a9727ca",
   "metadata": {},
   "source": [
    "3. Create a CSV file called books.csv by using these lines:\n",
    "title,author,year\n",
    "The Weirdstone of Brisingamen,Alan Garner,1960\n",
    "Perdido Street Station,China Miéville,2000\n",
    "Thud!,Terry Pratchett,2005\n",
    "The Spellman Files,Lisa Lutz,2007\n",
    "Small Gods,Terry Pratchett,1992"
   ]
  },
  {
   "cell_type": "code",
   "execution_count": 6,
   "id": "108bc617",
   "metadata": {},
   "outputs": [],
   "source": [
    "given_data='''title,author,year \n",
    "The Weirdstone of Brisingamen,Alan Garner,1960\n",
    "Perdido Street Station,China Miéville,2000\n",
    "Thud!,Terry Pratchett,2005\n",
    "The Spellman Files,Lisa Lutz,2007\n",
    "Small Gods,Terry Pratchett,1990'''\n",
    "with open(\"books.csv\",\"w\") as file:\n",
    "    file.write(given_data)\n",
    "    "
   ]
  },
  {
   "cell_type": "markdown",
   "id": "7aa46e7f",
   "metadata": {},
   "source": [
    "4. Use the sqlite3 module to create a SQLite database called books.db, and a table called books with these fields: title (text), author (text), and year (integer).\n"
   ]
  },
  {
   "cell_type": "code",
   "execution_count": null,
   "id": "8e76d5ea",
   "metadata": {},
   "outputs": [],
   "source": [
    "import sqlite3\n",
    "db = sqlite3.connect('books.db') \n",
    "cursor = db.cursor() \n",
    "cursor.execute(\"CREATE TABLE books2 (title text, author text, yr int)\")\n",
    "db.commit()\n",
    "db.close()"
   ]
  },
  {
   "cell_type": "markdown",
   "id": "722e1692",
   "metadata": {},
   "source": [
    "5. Read books.csv and insert its data into the books table."
   ]
  },
  {
   "cell_type": "code",
   "execution_count": null,
   "id": "8c497a51",
   "metadata": {},
   "outputs": [],
   "source": [
    "import sqlite3\n",
    "import csv\n",
    "conn = sqlite3.connect(\"books.db\")\n",
    "cursor = conn.cursor()\n",
    "with open(\"books.csv\",\"r\") as file:\n",
    "    books = csv.DictReader(file)\n",
    "    for book in books:\n",
    "        cursor.execute(\"insert into books2 values(?,?,?)\",(book['title'],book['author'],book['yr']))\n",
    "conn.commit()\n",
    "conn.close()"
   ]
  },
  {
   "cell_type": "markdown",
   "id": "1917e9c4",
   "metadata": {},
   "source": [
    "#6)SELECT AND PRINT THE TITLE COLUMN FROM THE BOOK TABLE IN AN ALPHABETICAL ORDER"
   ]
  },
  {
   "cell_type": "code",
   "execution_count": null,
   "id": "5d6f1fcb",
   "metadata": {},
   "outputs": [],
   "source": [
    "import sqlite3\n",
    "conn = sqlite3.connect('books.db')\n",
    "cursor = conn.cursor()\n",
    "output = cursor.execute(\"SELECT title FROM books2 ORDER BY title ASC\")\n",
    "for ele in output:\n",
    "    print(ele[0])\n",
    "conn.commit()\n",
    "conn.close()"
   ]
  },
  {
   "cell_type": "markdown",
   "id": "7250f9ed",
   "metadata": {},
   "source": [
    "#7)FROM THE BOOK TABLE,SELECT AND PRINT ALL COLUMNS IN THE ORDER OF PUBLICATION"
   ]
  },
  {
   "cell_type": "code",
   "execution_count": null,
   "id": "8b9cd799",
   "metadata": {},
   "outputs": [],
   "source": [
    "import sqlite3\n",
    "conn = sqlite3.connect('books.db')\n",
    "cursor = conn.cursor()\n",
    "ouput = cursor.execute(\"SELECT * FROM books ORDER BY year\")\n",
    "for record in ouput:\n",
    "    print(record)"
   ]
  },
  {
   "cell_type": "markdown",
   "id": "b00ece6f",
   "metadata": {},
   "source": [
    "#8)Use the sqlalchemy module to connect to the sqlite3 database books.db that you just made in exercise 6."
   ]
  },
  {
   "cell_type": "code",
   "execution_count": null,
   "id": "94599c6d",
   "metadata": {},
   "outputs": [],
   "source": [
    "import sqlalchemy\n",
    "conn = sqlalchemy.create_engine('sqlite:///books.db')\n",
    "conn"
   ]
  },
  {
   "cell_type": "markdown",
   "id": "ab51de7d",
   "metadata": {},
   "source": [
    "#9.) Install the Redis server and the Python redis library (pip install redis) on your computer. \n",
    "Create a Redis hash called test with the fields count (1) and name ('Fester Bestertester'). Print all the fields for test."
   ]
  },
  {
   "cell_type": "code",
   "execution_count": 1,
   "id": "74b183ff",
   "metadata": {},
   "outputs": [
    {
     "name": "stdout",
     "output_type": "stream",
     "text": [
      "Requirement already satisfied: redis in c:\\users\\achuth\\anaconda3\\lib\\site-packages (4.1.4)\n",
      "Requirement already satisfied: deprecated>=1.2.3 in c:\\users\\achuth\\anaconda3\\lib\\site-packages (from redis) (1.2.13)\n",
      "Requirement already satisfied: packaging>=20.4 in c:\\users\\achuth\\anaconda3\\lib\\site-packages (from redis) (21.0)\n",
      "Requirement already satisfied: wrapt<2,>=1.10 in c:\\users\\achuth\\anaconda3\\lib\\site-packages (from deprecated>=1.2.3->redis) (1.12.1)\n",
      "Requirement already satisfied: pyparsing>=2.0.2 in c:\\users\\achuth\\anaconda3\\lib\\site-packages (from packaging>=20.4->redis) (3.0.4)\n"
     ]
    }
   ],
   "source": [
    "! python -m pip install redis"
   ]
  },
  {
   "cell_type": "code",
   "execution_count": null,
   "id": "16966d7e",
   "metadata": {},
   "outputs": [],
   "source": [
    "import redis\n",
    "conn = redis.Redis()\n",
    "conn.hset('test',{\n",
    "    'count':1,\n",
    "    'name':'Fester Bestertester'\n",
    "})\n",
    "conn.hgetall('test')"
   ]
  },
  {
   "cell_type": "markdown",
   "id": "b684cd0a",
   "metadata": {},
   "source": [
    "10. Increment the count field of test and print it."
   ]
  },
  {
   "cell_type": "code",
   "execution_count": null,
   "id": "924f3fdd",
   "metadata": {},
   "outputs": [],
   "source": [
    "conn.hincrby('test', 'count', 1)\n",
    "conn.hget('test', 'count')"
   ]
  }
 ],
 "metadata": {
  "kernelspec": {
   "display_name": "Python 3 (ipykernel)",
   "language": "python",
   "name": "python3"
  },
  "language_info": {
   "codemirror_mode": {
    "name": "ipython",
    "version": 3
   },
   "file_extension": ".py",
   "mimetype": "text/x-python",
   "name": "python",
   "nbconvert_exporter": "python",
   "pygments_lexer": "ipython3",
   "version": "3.9.7"
  }
 },
 "nbformat": 4,
 "nbformat_minor": 5
}
