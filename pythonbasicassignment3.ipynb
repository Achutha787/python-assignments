{
 "cells": [
  {
   "cell_type": "code",
   "execution_count": 1,
   "id": "901929c5",
   "metadata": {},
   "outputs": [],
   "source": [
    "#1)advantages of functions are\n",
    "# Reducing duplication of code\n",
    "#Can be reused by the programmer at any number of times\n",
    "#it converts conplex problems to simpler pieces"
   ]
  },
  {
   "cell_type": "code",
   "execution_count": 2,
   "id": "b617558e",
   "metadata": {},
   "outputs": [],
   "source": [
    "#2)The function code will run,when it is called for only."
   ]
  },
  {
   "cell_type": "code",
   "execution_count": 3,
   "id": "32205357",
   "metadata": {},
   "outputs": [],
   "source": [
    "#3)function is created with def keyword.statement in the block of the function must be indented.\n",
    "# def function():\n",
    "#   pass"
   ]
  },
  {
   "cell_type": "code",
   "execution_count": 5,
   "id": "eabdb36b",
   "metadata": {},
   "outputs": [],
   "source": [
    "#4)Function is called to perform a specific task\n",
    "# def function(a):    creating a function\n",
    "#    pass           \n",
    "#Myfunc(a)           calling a function back to perform specified task"
   ]
  },
  {
   "cell_type": "code",
   "execution_count": 6,
   "id": "465542db",
   "metadata": {},
   "outputs": [],
   "source": [
    "#5)There is only one global scopes in python program\n",
    "#There can be any number of local scopes within the function.But it cannot be changed or\n",
    "#accessed from outside function."
   ]
  },
  {
   "cell_type": "code",
   "execution_count": 7,
   "id": "cab88f45",
   "metadata": {},
   "outputs": [],
   "source": [
    "#6) The scope of variable lies within the function in a local scope.when the function call returns or \n",
    "# terminates,the local variable gets destroyed."
   ]
  },
  {
   "cell_type": "code",
   "execution_count": 8,
   "id": "467199cb",
   "metadata": {},
   "outputs": [],
   "source": [
    "#7) Retuen keyword exits the function and instructs the python to continue the main program\n",
    "#Value could be a string,tuple ,list or any object.yes, it is possible to have an expression in return value\n"
   ]
  },
  {
   "cell_type": "code",
   "execution_count": 9,
   "id": "27e2ce0b",
   "metadata": {},
   "outputs": [],
   "source": [
    "#8)If there is no return value to the function,NONE is returned\n"
   ]
  },
  {
   "cell_type": "code",
   "execution_count": null,
   "id": "22da4a26",
   "metadata": {},
   "outputs": [],
   "source": [
    "#9)The global function will force a variable in afunction to the global variable."
   ]
  },
  {
   "cell_type": "code",
   "execution_count": 15,
   "id": "6b3f81e1",
   "metadata": {},
   "outputs": [],
   "source": [
    "#10)None is a null value.It is not an empty string nor false nor zero.It is data type of class of\n",
    "# NONE TYPE  object"
   ]
  },
  {
   "cell_type": "code",
   "execution_count": 16,
   "id": "01f88786",
   "metadata": {},
   "outputs": [],
   "source": [
    "#11)the import statement imports the module by \"areallyourpetsnamederic\""
   ]
  },
  {
   "cell_type": "code",
   "execution_count": 17,
   "id": "9f885b6a",
   "metadata": {},
   "outputs": [],
   "source": [
    "#12)This function can be called by spam.bacon()"
   ]
  },
  {
   "cell_type": "code",
   "execution_count": 18,
   "id": "d5352aec",
   "metadata": {},
   "outputs": [],
   "source": [
    "#13)Error handling can be used to notify the user of why the error occurred and gracefully exit the \n",
    "#process that caused the error."
   ]
  },
  {
   "cell_type": "code",
   "execution_count": 19,
   "id": "bbe65410",
   "metadata": {},
   "outputs": [],
   "source": [
    "#14)The code that potentially causes a error goes in atry clause\n",
    "#The code that executes if an error happens goes in the except clause.\n"
   ]
  },
  {
   "cell_type": "code",
   "execution_count": null,
   "id": "4d0aea77",
   "metadata": {},
   "outputs": [],
   "source": []
  }
 ],
 "metadata": {
  "kernelspec": {
   "display_name": "Python 3",
   "language": "python",
   "name": "python3"
  },
  "language_info": {
   "codemirror_mode": {
    "name": "ipython",
    "version": 3
   },
   "file_extension": ".py",
   "mimetype": "text/x-python",
   "name": "python",
   "nbconvert_exporter": "python",
   "pygments_lexer": "ipython3",
   "version": "3.8.8"
  }
 },
 "nbformat": 4,
 "nbformat_minor": 5
}
